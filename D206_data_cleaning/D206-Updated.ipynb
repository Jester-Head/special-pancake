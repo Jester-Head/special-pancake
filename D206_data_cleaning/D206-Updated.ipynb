{
 "cells": [
  {
   "cell_type": "markdown",
   "id": "fa6793db-53df-4f0e-a8f7-bd044dadf63b",
   "metadata": {},
   "source": [
    "# Scenario\n"
   ]
  },
  {
   "cell_type": "markdown",
   "id": "e0656d71-7785-495d-a77f-24bc7f9e0d38",
   "metadata": {},
   "source": [
    "Hospitals are being penalized by CMS for excessive readmissions, but many are not adequately prepared. The number of hospitals being penalized has increased, despite most hospitals being confident in their ability to reduce readmissions. However, less than 20% of hospitals use specific technology, which may lead to a higher penalty rate. The aim of this assignment is to prepare the data for analysis in order to gain insight into the causes of patient readmissions."
   ]
  },
  {
   "cell_type": "markdown",
   "id": "72286c36-7008-475a-a008-2fad96000f24",
   "metadata": {},
   "source": [
    "# Data Cleaning"
   ]
  },
  {
   "cell_type": "code",
   "execution_count": 1,
   "id": "0b34ff36",
   "metadata": {
    "ExecuteTime": {
     "end_time": "2023-05-29T02:53:12.538317Z",
     "start_time": "2023-05-29T02:53:09.979779Z"
    },
    "tags": []
   },
   "outputs": [],
   "source": [
    "# Importing Libraries\n",
    "import pandas as pd\n",
    "import numpy as np\n",
    "from sklearn.impute import SimpleImputer, KNNImputer\n",
    "from sklearn.preprocessing import StandardScaler,MinMaxScaler\n",
    "from scipy.stats import zscore\n",
    "from sklearn.decomposition import PCA\n",
    "\n",
    "# Visualization\n",
    "import seaborn as sns\n",
    "import matplotlib.pyplot as plt\n",
    "import missingno as msno\n",
    "# Settings\n",
    "%matplotlib inline\n",
    "sns.set_style(\"darkgrid\")\n",
    "pd.set_option(\"display.max_columns\", None)"
   ]
  },
  {
   "cell_type": "code",
   "execution_count": 2,
   "id": "d2ef0bf7",
   "metadata": {
    "ExecuteTime": {
     "end_time": "2023-05-29T02:53:12.775316Z",
     "start_time": "2023-05-29T02:53:12.541317Z"
    },
    "tags": []
   },
   "outputs": [],
   "source": [
    "# Loading Data\n",
    "df = pd.read_csv('medical_raw_data.csv')"
   ]
  },
  {
   "cell_type": "markdown",
   "id": "36e07236-e8ab-4b86-be1d-65d50d304aed",
   "metadata": {},
   "source": [
    "## Data Inspection\n",
    "Firstly, it's crucial to carefully analyze the data to understand its format, structure, and contents. This will allow us to identify and correct any errors or abnormalities."
   ]
  },
  {
   "cell_type": "code",
   "execution_count": 3,
   "id": "1ecb71bc-4304-405f-80b3-50677c2c5b96",
   "metadata": {
    "ExecuteTime": {
     "end_time": "2023-05-29T02:53:12.822316Z",
     "start_time": "2023-05-29T02:53:12.781318Z"
    },
    "tags": []
   },
   "outputs": [
    {
     "name": "stdout",
     "output_type": "stream",
     "text": [
      "<class 'pandas.core.frame.DataFrame'>\n",
      "RangeIndex: 10000 entries, 0 to 9999\n",
      "Data columns (total 53 columns):\n",
      " #   Column              Non-Null Count  Dtype  \n",
      "---  ------              --------------  -----  \n",
      " 0   Unnamed: 0          10000 non-null  int64  \n",
      " 1   CaseOrder           10000 non-null  int64  \n",
      " 2   Customer_id         10000 non-null  object \n",
      " 3   Interaction         10000 non-null  object \n",
      " 4   UID                 10000 non-null  object \n",
      " 5   City                10000 non-null  object \n",
      " 6   State               10000 non-null  object \n",
      " 7   County              10000 non-null  object \n",
      " 8   Zip                 10000 non-null  int64  \n",
      " 9   Lat                 10000 non-null  float64\n",
      " 10  Lng                 10000 non-null  float64\n",
      " 11  Population          10000 non-null  int64  \n",
      " 12  Area                10000 non-null  object \n",
      " 13  Timezone            10000 non-null  object \n",
      " 14  Job                 10000 non-null  object \n",
      " 15  Children            7412 non-null   float64\n",
      " 16  Age                 7586 non-null   float64\n",
      " 17  Education           10000 non-null  object \n",
      " 18  Employment          10000 non-null  object \n",
      " 19  Income              7536 non-null   float64\n",
      " 20  Marital             10000 non-null  object \n",
      " 21  Gender              10000 non-null  object \n",
      " 22  ReAdmis             10000 non-null  object \n",
      " 23  VitD_levels         10000 non-null  float64\n",
      " 24  Doc_visits          10000 non-null  int64  \n",
      " 25  Full_meals_eaten    10000 non-null  int64  \n",
      " 26  VitD_supp           10000 non-null  int64  \n",
      " 27  Soft_drink          7533 non-null   object \n",
      " 28  Initial_admin       10000 non-null  object \n",
      " 29  HighBlood           10000 non-null  object \n",
      " 30  Stroke              10000 non-null  object \n",
      " 31  Complication_risk   10000 non-null  object \n",
      " 32  Overweight          9018 non-null   float64\n",
      " 33  Arthritis           10000 non-null  object \n",
      " 34  Diabetes            10000 non-null  object \n",
      " 35  Hyperlipidemia      10000 non-null  object \n",
      " 36  BackPain            10000 non-null  object \n",
      " 37  Anxiety             9016 non-null   float64\n",
      " 38  Allergic_rhinitis   10000 non-null  object \n",
      " 39  Reflux_esophagitis  10000 non-null  object \n",
      " 40  Asthma              10000 non-null  object \n",
      " 41  Services            10000 non-null  object \n",
      " 42  Initial_days        8944 non-null   float64\n",
      " 43  TotalCharge         10000 non-null  float64\n",
      " 44  Additional_charges  10000 non-null  float64\n",
      " 45  Item1               10000 non-null  int64  \n",
      " 46  Item2               10000 non-null  int64  \n",
      " 47  Item3               10000 non-null  int64  \n",
      " 48  Item4               10000 non-null  int64  \n",
      " 49  Item5               10000 non-null  int64  \n",
      " 50  Item6               10000 non-null  int64  \n",
      " 51  Item7               10000 non-null  int64  \n",
      " 52  Item8               10000 non-null  int64  \n",
      "dtypes: float64(11), int64(15), object(27)\n",
      "memory usage: 4.0+ MB\n"
     ]
    },
    {
     "data": {
      "text/plain": [
       "None"
      ]
     },
     "metadata": {},
     "output_type": "display_data"
    }
   ],
   "source": [
    "display(df.info())"
   ]
  },
  {
   "cell_type": "code",
   "execution_count": 4,
   "id": "27e1873f",
   "metadata": {
    "ExecuteTime": {
     "end_time": "2023-05-29T02:53:12.902317Z",
     "start_time": "2023-05-29T02:53:12.825320Z"
    },
    "tags": []
   },
   "outputs": [
    {
     "data": {
      "text/html": [
       "<div>\n",
       "<style scoped>\n",
       "    .dataframe tbody tr th:only-of-type {\n",
       "        vertical-align: middle;\n",
       "    }\n",
       "\n",
       "    .dataframe tbody tr th {\n",
       "        vertical-align: top;\n",
       "    }\n",
       "\n",
       "    .dataframe thead th {\n",
       "        text-align: right;\n",
       "    }\n",
       "</style>\n",
       "<table border=\"1\" class=\"dataframe\">\n",
       "  <thead>\n",
       "    <tr style=\"text-align: right;\">\n",
       "      <th></th>\n",
       "      <th>Unnamed: 0</th>\n",
       "      <th>CaseOrder</th>\n",
       "      <th>Customer_id</th>\n",
       "      <th>Interaction</th>\n",
       "      <th>UID</th>\n",
       "      <th>City</th>\n",
       "      <th>State</th>\n",
       "      <th>County</th>\n",
       "      <th>Zip</th>\n",
       "      <th>Lat</th>\n",
       "      <th>Lng</th>\n",
       "      <th>Population</th>\n",
       "      <th>Area</th>\n",
       "      <th>Timezone</th>\n",
       "      <th>Job</th>\n",
       "      <th>Children</th>\n",
       "      <th>Age</th>\n",
       "      <th>Education</th>\n",
       "      <th>Employment</th>\n",
       "      <th>Income</th>\n",
       "      <th>Marital</th>\n",
       "      <th>Gender</th>\n",
       "      <th>ReAdmis</th>\n",
       "      <th>VitD_levels</th>\n",
       "      <th>Doc_visits</th>\n",
       "      <th>Full_meals_eaten</th>\n",
       "      <th>VitD_supp</th>\n",
       "      <th>Soft_drink</th>\n",
       "      <th>Initial_admin</th>\n",
       "      <th>HighBlood</th>\n",
       "      <th>Stroke</th>\n",
       "      <th>Complication_risk</th>\n",
       "      <th>Overweight</th>\n",
       "      <th>Arthritis</th>\n",
       "      <th>Diabetes</th>\n",
       "      <th>Hyperlipidemia</th>\n",
       "      <th>BackPain</th>\n",
       "      <th>Anxiety</th>\n",
       "      <th>Allergic_rhinitis</th>\n",
       "      <th>Reflux_esophagitis</th>\n",
       "      <th>Asthma</th>\n",
       "      <th>Services</th>\n",
       "      <th>Initial_days</th>\n",
       "      <th>TotalCharge</th>\n",
       "      <th>Additional_charges</th>\n",
       "      <th>Item1</th>\n",
       "      <th>Item2</th>\n",
       "      <th>Item3</th>\n",
       "      <th>Item4</th>\n",
       "      <th>Item5</th>\n",
       "      <th>Item6</th>\n",
       "      <th>Item7</th>\n",
       "      <th>Item8</th>\n",
       "    </tr>\n",
       "  </thead>\n",
       "  <tbody>\n",
       "    <tr>\n",
       "      <th>0</th>\n",
       "      <td>1</td>\n",
       "      <td>1</td>\n",
       "      <td>C412403</td>\n",
       "      <td>8cd49b13-f45a-4b47-a2bd-173ffa932c2f</td>\n",
       "      <td>3a83ddb66e2ae73798bdf1d705dc0932</td>\n",
       "      <td>Eva</td>\n",
       "      <td>AL</td>\n",
       "      <td>Morgan</td>\n",
       "      <td>35621</td>\n",
       "      <td>34.34960</td>\n",
       "      <td>-86.72508</td>\n",
       "      <td>2951</td>\n",
       "      <td>Suburban</td>\n",
       "      <td>America/Chicago</td>\n",
       "      <td>Psychologist, sport and exercise</td>\n",
       "      <td>1.0</td>\n",
       "      <td>53.0</td>\n",
       "      <td>Some College, Less than 1 Year</td>\n",
       "      <td>Full Time</td>\n",
       "      <td>86575.93</td>\n",
       "      <td>Divorced</td>\n",
       "      <td>Male</td>\n",
       "      <td>No</td>\n",
       "      <td>17.802330</td>\n",
       "      <td>6</td>\n",
       "      <td>0</td>\n",
       "      <td>0</td>\n",
       "      <td>NaN</td>\n",
       "      <td>Emergency Admission</td>\n",
       "      <td>Yes</td>\n",
       "      <td>No</td>\n",
       "      <td>Medium</td>\n",
       "      <td>0.0</td>\n",
       "      <td>Yes</td>\n",
       "      <td>Yes</td>\n",
       "      <td>No</td>\n",
       "      <td>Yes</td>\n",
       "      <td>1.0</td>\n",
       "      <td>Yes</td>\n",
       "      <td>No</td>\n",
       "      <td>Yes</td>\n",
       "      <td>Blood Work</td>\n",
       "      <td>10.585770</td>\n",
       "      <td>3191.048774</td>\n",
       "      <td>17939.403420</td>\n",
       "      <td>3</td>\n",
       "      <td>3</td>\n",
       "      <td>2</td>\n",
       "      <td>2</td>\n",
       "      <td>4</td>\n",
       "      <td>3</td>\n",
       "      <td>3</td>\n",
       "      <td>4</td>\n",
       "    </tr>\n",
       "    <tr>\n",
       "      <th>1</th>\n",
       "      <td>2</td>\n",
       "      <td>2</td>\n",
       "      <td>Z919181</td>\n",
       "      <td>d2450b70-0337-4406-bdbb-bc1037f1734c</td>\n",
       "      <td>176354c5eef714957d486009feabf195</td>\n",
       "      <td>Marianna</td>\n",
       "      <td>FL</td>\n",
       "      <td>Jackson</td>\n",
       "      <td>32446</td>\n",
       "      <td>30.84513</td>\n",
       "      <td>-85.22907</td>\n",
       "      <td>11303</td>\n",
       "      <td>Urban</td>\n",
       "      <td>America/Chicago</td>\n",
       "      <td>Community development worker</td>\n",
       "      <td>3.0</td>\n",
       "      <td>51.0</td>\n",
       "      <td>Some College, 1 or More Years, No Degree</td>\n",
       "      <td>Full Time</td>\n",
       "      <td>46805.99</td>\n",
       "      <td>Married</td>\n",
       "      <td>Female</td>\n",
       "      <td>No</td>\n",
       "      <td>18.994640</td>\n",
       "      <td>4</td>\n",
       "      <td>2</td>\n",
       "      <td>1</td>\n",
       "      <td>No</td>\n",
       "      <td>Emergency Admission</td>\n",
       "      <td>Yes</td>\n",
       "      <td>No</td>\n",
       "      <td>High</td>\n",
       "      <td>1.0</td>\n",
       "      <td>No</td>\n",
       "      <td>No</td>\n",
       "      <td>No</td>\n",
       "      <td>No</td>\n",
       "      <td>NaN</td>\n",
       "      <td>No</td>\n",
       "      <td>Yes</td>\n",
       "      <td>No</td>\n",
       "      <td>Intravenous</td>\n",
       "      <td>15.129562</td>\n",
       "      <td>4214.905346</td>\n",
       "      <td>17612.998120</td>\n",
       "      <td>3</td>\n",
       "      <td>4</td>\n",
       "      <td>3</td>\n",
       "      <td>4</td>\n",
       "      <td>4</td>\n",
       "      <td>4</td>\n",
       "      <td>3</td>\n",
       "      <td>3</td>\n",
       "    </tr>\n",
       "    <tr>\n",
       "      <th>2</th>\n",
       "      <td>3</td>\n",
       "      <td>3</td>\n",
       "      <td>F995323</td>\n",
       "      <td>a2057123-abf5-4a2c-abad-8ffe33512562</td>\n",
       "      <td>e19a0fa00aeda885b8a436757e889bc9</td>\n",
       "      <td>Sioux Falls</td>\n",
       "      <td>SD</td>\n",
       "      <td>Minnehaha</td>\n",
       "      <td>57110</td>\n",
       "      <td>43.54321</td>\n",
       "      <td>-96.63772</td>\n",
       "      <td>17125</td>\n",
       "      <td>Suburban</td>\n",
       "      <td>America/Chicago</td>\n",
       "      <td>Chief Executive Officer</td>\n",
       "      <td>3.0</td>\n",
       "      <td>53.0</td>\n",
       "      <td>Some College, 1 or More Years, No Degree</td>\n",
       "      <td>Retired</td>\n",
       "      <td>14370.14</td>\n",
       "      <td>Widowed</td>\n",
       "      <td>Female</td>\n",
       "      <td>No</td>\n",
       "      <td>17.415889</td>\n",
       "      <td>4</td>\n",
       "      <td>1</td>\n",
       "      <td>0</td>\n",
       "      <td>No</td>\n",
       "      <td>Elective Admission</td>\n",
       "      <td>Yes</td>\n",
       "      <td>No</td>\n",
       "      <td>Medium</td>\n",
       "      <td>1.0</td>\n",
       "      <td>No</td>\n",
       "      <td>Yes</td>\n",
       "      <td>No</td>\n",
       "      <td>No</td>\n",
       "      <td>NaN</td>\n",
       "      <td>No</td>\n",
       "      <td>No</td>\n",
       "      <td>No</td>\n",
       "      <td>Blood Work</td>\n",
       "      <td>4.772177</td>\n",
       "      <td>2177.586768</td>\n",
       "      <td>17505.192460</td>\n",
       "      <td>2</td>\n",
       "      <td>4</td>\n",
       "      <td>4</td>\n",
       "      <td>4</td>\n",
       "      <td>3</td>\n",
       "      <td>4</td>\n",
       "      <td>3</td>\n",
       "      <td>3</td>\n",
       "    </tr>\n",
       "    <tr>\n",
       "      <th>3</th>\n",
       "      <td>4</td>\n",
       "      <td>4</td>\n",
       "      <td>A879973</td>\n",
       "      <td>1dec528d-eb34-4079-adce-0d7a40e82205</td>\n",
       "      <td>cd17d7b6d152cb6f23957346d11c3f07</td>\n",
       "      <td>New Richland</td>\n",
       "      <td>MN</td>\n",
       "      <td>Waseca</td>\n",
       "      <td>56072</td>\n",
       "      <td>43.89744</td>\n",
       "      <td>-93.51479</td>\n",
       "      <td>2162</td>\n",
       "      <td>Suburban</td>\n",
       "      <td>America/Chicago</td>\n",
       "      <td>Early years teacher</td>\n",
       "      <td>0.0</td>\n",
       "      <td>78.0</td>\n",
       "      <td>GED or Alternative Credential</td>\n",
       "      <td>Retired</td>\n",
       "      <td>39741.49</td>\n",
       "      <td>Married</td>\n",
       "      <td>Male</td>\n",
       "      <td>No</td>\n",
       "      <td>17.420079</td>\n",
       "      <td>4</td>\n",
       "      <td>1</td>\n",
       "      <td>0</td>\n",
       "      <td>No</td>\n",
       "      <td>Elective Admission</td>\n",
       "      <td>No</td>\n",
       "      <td>Yes</td>\n",
       "      <td>Medium</td>\n",
       "      <td>0.0</td>\n",
       "      <td>Yes</td>\n",
       "      <td>No</td>\n",
       "      <td>No</td>\n",
       "      <td>No</td>\n",
       "      <td>NaN</td>\n",
       "      <td>No</td>\n",
       "      <td>Yes</td>\n",
       "      <td>Yes</td>\n",
       "      <td>Blood Work</td>\n",
       "      <td>1.714879</td>\n",
       "      <td>2465.118965</td>\n",
       "      <td>12993.437350</td>\n",
       "      <td>3</td>\n",
       "      <td>5</td>\n",
       "      <td>5</td>\n",
       "      <td>3</td>\n",
       "      <td>4</td>\n",
       "      <td>5</td>\n",
       "      <td>5</td>\n",
       "      <td>5</td>\n",
       "    </tr>\n",
       "    <tr>\n",
       "      <th>4</th>\n",
       "      <td>5</td>\n",
       "      <td>5</td>\n",
       "      <td>C544523</td>\n",
       "      <td>5885f56b-d6da-43a3-8760-83583af94266</td>\n",
       "      <td>d2f0425877b10ed6bb381f3e2579424a</td>\n",
       "      <td>West Point</td>\n",
       "      <td>VA</td>\n",
       "      <td>King William</td>\n",
       "      <td>23181</td>\n",
       "      <td>37.59894</td>\n",
       "      <td>-76.88958</td>\n",
       "      <td>5287</td>\n",
       "      <td>Rural</td>\n",
       "      <td>America/New_York</td>\n",
       "      <td>Health promotion specialist</td>\n",
       "      <td>NaN</td>\n",
       "      <td>22.0</td>\n",
       "      <td>Regular High School Diploma</td>\n",
       "      <td>Full Time</td>\n",
       "      <td>1209.56</td>\n",
       "      <td>Widowed</td>\n",
       "      <td>Female</td>\n",
       "      <td>No</td>\n",
       "      <td>16.870524</td>\n",
       "      <td>5</td>\n",
       "      <td>0</td>\n",
       "      <td>2</td>\n",
       "      <td>Yes</td>\n",
       "      <td>Elective Admission</td>\n",
       "      <td>No</td>\n",
       "      <td>No</td>\n",
       "      <td>Low</td>\n",
       "      <td>0.0</td>\n",
       "      <td>No</td>\n",
       "      <td>No</td>\n",
       "      <td>Yes</td>\n",
       "      <td>No</td>\n",
       "      <td>0.0</td>\n",
       "      <td>Yes</td>\n",
       "      <td>No</td>\n",
       "      <td>No</td>\n",
       "      <td>CT Scan</td>\n",
       "      <td>1.254807</td>\n",
       "      <td>1885.655137</td>\n",
       "      <td>3716.525786</td>\n",
       "      <td>2</td>\n",
       "      <td>1</td>\n",
       "      <td>3</td>\n",
       "      <td>3</td>\n",
       "      <td>5</td>\n",
       "      <td>3</td>\n",
       "      <td>4</td>\n",
       "      <td>3</td>\n",
       "    </tr>\n",
       "  </tbody>\n",
       "</table>\n",
       "</div>"
      ],
      "text/plain": [
       "   Unnamed: 0  CaseOrder Customer_id                           Interaction  \\\n",
       "0           1          1     C412403  8cd49b13-f45a-4b47-a2bd-173ffa932c2f   \n",
       "1           2          2     Z919181  d2450b70-0337-4406-bdbb-bc1037f1734c   \n",
       "2           3          3     F995323  a2057123-abf5-4a2c-abad-8ffe33512562   \n",
       "3           4          4     A879973  1dec528d-eb34-4079-adce-0d7a40e82205   \n",
       "4           5          5     C544523  5885f56b-d6da-43a3-8760-83583af94266   \n",
       "\n",
       "                                UID          City State        County    Zip  \\\n",
       "0  3a83ddb66e2ae73798bdf1d705dc0932           Eva    AL        Morgan  35621   \n",
       "1  176354c5eef714957d486009feabf195      Marianna    FL       Jackson  32446   \n",
       "2  e19a0fa00aeda885b8a436757e889bc9   Sioux Falls    SD     Minnehaha  57110   \n",
       "3  cd17d7b6d152cb6f23957346d11c3f07  New Richland    MN        Waseca  56072   \n",
       "4  d2f0425877b10ed6bb381f3e2579424a    West Point    VA  King William  23181   \n",
       "\n",
       "        Lat       Lng  Population      Area          Timezone  \\\n",
       "0  34.34960 -86.72508        2951  Suburban   America/Chicago   \n",
       "1  30.84513 -85.22907       11303     Urban   America/Chicago   \n",
       "2  43.54321 -96.63772       17125  Suburban   America/Chicago   \n",
       "3  43.89744 -93.51479        2162  Suburban   America/Chicago   \n",
       "4  37.59894 -76.88958        5287     Rural  America/New_York   \n",
       "\n",
       "                                Job  Children   Age  \\\n",
       "0  Psychologist, sport and exercise       1.0  53.0   \n",
       "1      Community development worker       3.0  51.0   \n",
       "2           Chief Executive Officer       3.0  53.0   \n",
       "3               Early years teacher       0.0  78.0   \n",
       "4       Health promotion specialist       NaN  22.0   \n",
       "\n",
       "                                  Education Employment    Income   Marital  \\\n",
       "0            Some College, Less than 1 Year  Full Time  86575.93  Divorced   \n",
       "1  Some College, 1 or More Years, No Degree  Full Time  46805.99   Married   \n",
       "2  Some College, 1 or More Years, No Degree    Retired  14370.14   Widowed   \n",
       "3             GED or Alternative Credential    Retired  39741.49   Married   \n",
       "4               Regular High School Diploma  Full Time   1209.56   Widowed   \n",
       "\n",
       "   Gender ReAdmis  VitD_levels  Doc_visits  Full_meals_eaten  VitD_supp  \\\n",
       "0    Male      No    17.802330           6                 0          0   \n",
       "1  Female      No    18.994640           4                 2          1   \n",
       "2  Female      No    17.415889           4                 1          0   \n",
       "3    Male      No    17.420079           4                 1          0   \n",
       "4  Female      No    16.870524           5                 0          2   \n",
       "\n",
       "  Soft_drink        Initial_admin HighBlood Stroke Complication_risk  \\\n",
       "0        NaN  Emergency Admission       Yes     No            Medium   \n",
       "1         No  Emergency Admission       Yes     No              High   \n",
       "2         No   Elective Admission       Yes     No            Medium   \n",
       "3         No   Elective Admission        No    Yes            Medium   \n",
       "4        Yes   Elective Admission        No     No               Low   \n",
       "\n",
       "   Overweight Arthritis Diabetes Hyperlipidemia BackPain  Anxiety  \\\n",
       "0         0.0       Yes      Yes             No      Yes      1.0   \n",
       "1         1.0        No       No             No       No      NaN   \n",
       "2         1.0        No      Yes             No       No      NaN   \n",
       "3         0.0       Yes       No             No       No      NaN   \n",
       "4         0.0        No       No            Yes       No      0.0   \n",
       "\n",
       "  Allergic_rhinitis Reflux_esophagitis Asthma     Services  Initial_days  \\\n",
       "0               Yes                 No    Yes   Blood Work     10.585770   \n",
       "1                No                Yes     No  Intravenous     15.129562   \n",
       "2                No                 No     No   Blood Work      4.772177   \n",
       "3                No                Yes    Yes   Blood Work      1.714879   \n",
       "4               Yes                 No     No      CT Scan      1.254807   \n",
       "\n",
       "   TotalCharge  Additional_charges  Item1  Item2  Item3  Item4  Item5  Item6  \\\n",
       "0  3191.048774        17939.403420      3      3      2      2      4      3   \n",
       "1  4214.905346        17612.998120      3      4      3      4      4      4   \n",
       "2  2177.586768        17505.192460      2      4      4      4      3      4   \n",
       "3  2465.118965        12993.437350      3      5      5      3      4      5   \n",
       "4  1885.655137         3716.525786      2      1      3      3      5      3   \n",
       "\n",
       "   Item7  Item8  \n",
       "0      3      4  \n",
       "1      3      3  \n",
       "2      3      3  \n",
       "3      5      5  \n",
       "4      4      3  "
      ]
     },
     "execution_count": 4,
     "metadata": {},
     "output_type": "execute_result"
    }
   ],
   "source": [
    "df.head()"
   ]
  },
  {
   "cell_type": "markdown",
   "id": "be1d6d01",
   "metadata": {},
   "source": [
    "## Data Filtering\n",
    "The goal is to get rid of any information that is unnecessary or not useful for the analysis. I'll begin by checking for duplicate rows to remove any redundant entries and identify unnecessary columns to drop so we can focus on the relevant information."
   ]
  },
  {
   "cell_type": "code",
   "execution_count": 5,
   "id": "66953cfe-ca98-4a13-b35c-9a5fd857f096",
   "metadata": {
    "ExecuteTime": {
     "end_time": "2023-05-29T02:53:12.980319Z",
     "start_time": "2023-05-29T02:53:12.906318Z"
    },
    "tags": []
   },
   "outputs": [
    {
     "data": {
      "text/plain": [
       "False    10000\n",
       "Name: count, dtype: int64"
      ]
     },
     "execution_count": 5,
     "metadata": {},
     "output_type": "execute_result"
    }
   ],
   "source": [
    "#  Checking for duplicate values\n",
    "df.duplicated().value_counts()"
   ]
  },
  {
   "cell_type": "markdown",
   "id": "477ca345",
   "metadata": {},
   "source": [
    "The data contains various columns that serve only for searching and identifying specific cases in a corporate environment. These include Unnamed: 0, UID, CaseOrder, Interaction, and Customer_id. Meanwhile, attributes such as Zip, Lng, Lat, Population, and Timezone, which are location-related, are not essential in comprehending patient readmission to the hospital."
   ]
  },
  {
   "cell_type": "code",
   "execution_count": 6,
   "id": "bac62d5a-5357-4592-ab16-769c832e334a",
   "metadata": {
    "ExecuteTime": {
     "end_time": "2023-05-29T02:53:12.996318Z",
     "start_time": "2023-05-29T02:53:12.984322Z"
    },
    "tags": []
   },
   "outputs": [],
   "source": [
    "# Dropping unnecessary columns \n",
    "# df.drop(columns=['Unnamed: 0', 'UID', 'CaseOrder', 'Customer_id', 'Interaction',\n",
    "#         'Zip', 'Lat', 'Lng', 'Population', 'Timezone'],inplace = True,errors='ignore')\n",
    "df.drop(columns=['Unnamed: 0'],inplace=True);"
   ]
  },
  {
   "cell_type": "markdown",
   "id": "811d7282",
   "metadata": {
    "tags": []
   },
   "source": [
    "## Standardize\n",
    "Now, we'll take a closer look at the data to catch any spelling or formatting errors. Once we've done that, we'll work on making sure everything is in a consistent format so that it's easier to understand."
   ]
  },
  {
   "cell_type": "code",
   "execution_count": 7,
   "id": "31b3a0ef-33fd-4bb8-8dde-96e31cb72ad1",
   "metadata": {
    "ExecuteTime": {
     "end_time": "2023-05-29T02:53:13.060319Z",
     "start_time": "2023-05-29T02:53:13.000319Z"
    },
    "tags": []
   },
   "outputs": [
    {
     "data": {
      "text/html": [
       "<div>\n",
       "<style scoped>\n",
       "    .dataframe tbody tr th:only-of-type {\n",
       "        vertical-align: middle;\n",
       "    }\n",
       "\n",
       "    .dataframe tbody tr th {\n",
       "        vertical-align: top;\n",
       "    }\n",
       "\n",
       "    .dataframe thead th {\n",
       "        text-align: right;\n",
       "    }\n",
       "</style>\n",
       "<table border=\"1\" class=\"dataframe\">\n",
       "  <thead>\n",
       "    <tr style=\"text-align: right;\">\n",
       "      <th></th>\n",
       "      <th>CaseOrder</th>\n",
       "      <th>Customer_id</th>\n",
       "      <th>Interaction</th>\n",
       "      <th>UID</th>\n",
       "      <th>City</th>\n",
       "      <th>State</th>\n",
       "      <th>County</th>\n",
       "      <th>Zip</th>\n",
       "      <th>Lat</th>\n",
       "      <th>Lng</th>\n",
       "      <th>Population</th>\n",
       "      <th>Area</th>\n",
       "      <th>Timezone</th>\n",
       "      <th>Job</th>\n",
       "      <th>Children</th>\n",
       "      <th>Age</th>\n",
       "      <th>Education</th>\n",
       "      <th>Employment</th>\n",
       "      <th>Income</th>\n",
       "      <th>Marital</th>\n",
       "      <th>Gender</th>\n",
       "      <th>ReAdmis</th>\n",
       "      <th>VitD_levels</th>\n",
       "      <th>Doc_visits</th>\n",
       "      <th>Full_meals_eaten</th>\n",
       "      <th>VitD_supp</th>\n",
       "      <th>Soft_drink</th>\n",
       "      <th>Initial_admin</th>\n",
       "      <th>HighBlood</th>\n",
       "      <th>Stroke</th>\n",
       "      <th>Complication_risk</th>\n",
       "      <th>Overweight</th>\n",
       "      <th>Arthritis</th>\n",
       "      <th>Diabetes</th>\n",
       "      <th>Hyperlipidemia</th>\n",
       "      <th>BackPain</th>\n",
       "      <th>Anxiety</th>\n",
       "      <th>Allergic_rhinitis</th>\n",
       "      <th>Reflux_esophagitis</th>\n",
       "      <th>Asthma</th>\n",
       "      <th>Services</th>\n",
       "      <th>Initial_days</th>\n",
       "      <th>TotalCharge</th>\n",
       "      <th>Additional_charges</th>\n",
       "      <th>Item1</th>\n",
       "      <th>Item2</th>\n",
       "      <th>Item3</th>\n",
       "      <th>Item4</th>\n",
       "      <th>Item5</th>\n",
       "      <th>Item6</th>\n",
       "      <th>Item7</th>\n",
       "      <th>Item8</th>\n",
       "    </tr>\n",
       "  </thead>\n",
       "  <tbody>\n",
       "    <tr>\n",
       "      <th>0</th>\n",
       "      <td>1</td>\n",
       "      <td>C412403</td>\n",
       "      <td>8cd49b13-f45a-4b47-a2bd-173ffa932c2f</td>\n",
       "      <td>3a83ddb66e2ae73798bdf1d705dc0932</td>\n",
       "      <td>Eva</td>\n",
       "      <td>AL</td>\n",
       "      <td>Morgan</td>\n",
       "      <td>35621</td>\n",
       "      <td>34.34960</td>\n",
       "      <td>-86.72508</td>\n",
       "      <td>2951</td>\n",
       "      <td>Suburban</td>\n",
       "      <td>America/Chicago</td>\n",
       "      <td>Psychologist, sport and exercise</td>\n",
       "      <td>1.0</td>\n",
       "      <td>53.0</td>\n",
       "      <td>Some College, Less than 1 Year</td>\n",
       "      <td>Full Time</td>\n",
       "      <td>86575.93</td>\n",
       "      <td>Divorced</td>\n",
       "      <td>Male</td>\n",
       "      <td>No</td>\n",
       "      <td>17.802330</td>\n",
       "      <td>6</td>\n",
       "      <td>0</td>\n",
       "      <td>0</td>\n",
       "      <td>NaN</td>\n",
       "      <td>Emergency Admission</td>\n",
       "      <td>Yes</td>\n",
       "      <td>No</td>\n",
       "      <td>Medium</td>\n",
       "      <td>0.0</td>\n",
       "      <td>Yes</td>\n",
       "      <td>Yes</td>\n",
       "      <td>No</td>\n",
       "      <td>Yes</td>\n",
       "      <td>1.0</td>\n",
       "      <td>Yes</td>\n",
       "      <td>No</td>\n",
       "      <td>Yes</td>\n",
       "      <td>Blood Work</td>\n",
       "      <td>10.585770</td>\n",
       "      <td>3191.048774</td>\n",
       "      <td>17939.403420</td>\n",
       "      <td>3</td>\n",
       "      <td>3</td>\n",
       "      <td>2</td>\n",
       "      <td>2</td>\n",
       "      <td>4</td>\n",
       "      <td>3</td>\n",
       "      <td>3</td>\n",
       "      <td>4</td>\n",
       "    </tr>\n",
       "    <tr>\n",
       "      <th>1</th>\n",
       "      <td>2</td>\n",
       "      <td>Z919181</td>\n",
       "      <td>d2450b70-0337-4406-bdbb-bc1037f1734c</td>\n",
       "      <td>176354c5eef714957d486009feabf195</td>\n",
       "      <td>Marianna</td>\n",
       "      <td>FL</td>\n",
       "      <td>Jackson</td>\n",
       "      <td>32446</td>\n",
       "      <td>30.84513</td>\n",
       "      <td>-85.22907</td>\n",
       "      <td>11303</td>\n",
       "      <td>Urban</td>\n",
       "      <td>America/Chicago</td>\n",
       "      <td>Community development worker</td>\n",
       "      <td>3.0</td>\n",
       "      <td>51.0</td>\n",
       "      <td>Some College, 1 or More Years, No Degree</td>\n",
       "      <td>Full Time</td>\n",
       "      <td>46805.99</td>\n",
       "      <td>Married</td>\n",
       "      <td>Female</td>\n",
       "      <td>No</td>\n",
       "      <td>18.994640</td>\n",
       "      <td>4</td>\n",
       "      <td>2</td>\n",
       "      <td>1</td>\n",
       "      <td>No</td>\n",
       "      <td>Emergency Admission</td>\n",
       "      <td>Yes</td>\n",
       "      <td>No</td>\n",
       "      <td>High</td>\n",
       "      <td>1.0</td>\n",
       "      <td>No</td>\n",
       "      <td>No</td>\n",
       "      <td>No</td>\n",
       "      <td>No</td>\n",
       "      <td>NaN</td>\n",
       "      <td>No</td>\n",
       "      <td>Yes</td>\n",
       "      <td>No</td>\n",
       "      <td>Intravenous</td>\n",
       "      <td>15.129562</td>\n",
       "      <td>4214.905346</td>\n",
       "      <td>17612.998120</td>\n",
       "      <td>3</td>\n",
       "      <td>4</td>\n",
       "      <td>3</td>\n",
       "      <td>4</td>\n",
       "      <td>4</td>\n",
       "      <td>4</td>\n",
       "      <td>3</td>\n",
       "      <td>3</td>\n",
       "    </tr>\n",
       "    <tr>\n",
       "      <th>2</th>\n",
       "      <td>3</td>\n",
       "      <td>F995323</td>\n",
       "      <td>a2057123-abf5-4a2c-abad-8ffe33512562</td>\n",
       "      <td>e19a0fa00aeda885b8a436757e889bc9</td>\n",
       "      <td>Sioux Falls</td>\n",
       "      <td>SD</td>\n",
       "      <td>Minnehaha</td>\n",
       "      <td>57110</td>\n",
       "      <td>43.54321</td>\n",
       "      <td>-96.63772</td>\n",
       "      <td>17125</td>\n",
       "      <td>Suburban</td>\n",
       "      <td>America/Chicago</td>\n",
       "      <td>Chief Executive Officer</td>\n",
       "      <td>3.0</td>\n",
       "      <td>53.0</td>\n",
       "      <td>Some College, 1 or More Years, No Degree</td>\n",
       "      <td>Retired</td>\n",
       "      <td>14370.14</td>\n",
       "      <td>Widowed</td>\n",
       "      <td>Female</td>\n",
       "      <td>No</td>\n",
       "      <td>17.415889</td>\n",
       "      <td>4</td>\n",
       "      <td>1</td>\n",
       "      <td>0</td>\n",
       "      <td>No</td>\n",
       "      <td>Elective Admission</td>\n",
       "      <td>Yes</td>\n",
       "      <td>No</td>\n",
       "      <td>Medium</td>\n",
       "      <td>1.0</td>\n",
       "      <td>No</td>\n",
       "      <td>Yes</td>\n",
       "      <td>No</td>\n",
       "      <td>No</td>\n",
       "      <td>NaN</td>\n",
       "      <td>No</td>\n",
       "      <td>No</td>\n",
       "      <td>No</td>\n",
       "      <td>Blood Work</td>\n",
       "      <td>4.772177</td>\n",
       "      <td>2177.586768</td>\n",
       "      <td>17505.192460</td>\n",
       "      <td>2</td>\n",
       "      <td>4</td>\n",
       "      <td>4</td>\n",
       "      <td>4</td>\n",
       "      <td>3</td>\n",
       "      <td>4</td>\n",
       "      <td>3</td>\n",
       "      <td>3</td>\n",
       "    </tr>\n",
       "    <tr>\n",
       "      <th>3</th>\n",
       "      <td>4</td>\n",
       "      <td>A879973</td>\n",
       "      <td>1dec528d-eb34-4079-adce-0d7a40e82205</td>\n",
       "      <td>cd17d7b6d152cb6f23957346d11c3f07</td>\n",
       "      <td>New Richland</td>\n",
       "      <td>MN</td>\n",
       "      <td>Waseca</td>\n",
       "      <td>56072</td>\n",
       "      <td>43.89744</td>\n",
       "      <td>-93.51479</td>\n",
       "      <td>2162</td>\n",
       "      <td>Suburban</td>\n",
       "      <td>America/Chicago</td>\n",
       "      <td>Early years teacher</td>\n",
       "      <td>0.0</td>\n",
       "      <td>78.0</td>\n",
       "      <td>GED or Alternative Credential</td>\n",
       "      <td>Retired</td>\n",
       "      <td>39741.49</td>\n",
       "      <td>Married</td>\n",
       "      <td>Male</td>\n",
       "      <td>No</td>\n",
       "      <td>17.420079</td>\n",
       "      <td>4</td>\n",
       "      <td>1</td>\n",
       "      <td>0</td>\n",
       "      <td>No</td>\n",
       "      <td>Elective Admission</td>\n",
       "      <td>No</td>\n",
       "      <td>Yes</td>\n",
       "      <td>Medium</td>\n",
       "      <td>0.0</td>\n",
       "      <td>Yes</td>\n",
       "      <td>No</td>\n",
       "      <td>No</td>\n",
       "      <td>No</td>\n",
       "      <td>NaN</td>\n",
       "      <td>No</td>\n",
       "      <td>Yes</td>\n",
       "      <td>Yes</td>\n",
       "      <td>Blood Work</td>\n",
       "      <td>1.714879</td>\n",
       "      <td>2465.118965</td>\n",
       "      <td>12993.437350</td>\n",
       "      <td>3</td>\n",
       "      <td>5</td>\n",
       "      <td>5</td>\n",
       "      <td>3</td>\n",
       "      <td>4</td>\n",
       "      <td>5</td>\n",
       "      <td>5</td>\n",
       "      <td>5</td>\n",
       "    </tr>\n",
       "    <tr>\n",
       "      <th>4</th>\n",
       "      <td>5</td>\n",
       "      <td>C544523</td>\n",
       "      <td>5885f56b-d6da-43a3-8760-83583af94266</td>\n",
       "      <td>d2f0425877b10ed6bb381f3e2579424a</td>\n",
       "      <td>West Point</td>\n",
       "      <td>VA</td>\n",
       "      <td>King William</td>\n",
       "      <td>23181</td>\n",
       "      <td>37.59894</td>\n",
       "      <td>-76.88958</td>\n",
       "      <td>5287</td>\n",
       "      <td>Rural</td>\n",
       "      <td>America/New_York</td>\n",
       "      <td>Health promotion specialist</td>\n",
       "      <td>NaN</td>\n",
       "      <td>22.0</td>\n",
       "      <td>Regular High School Diploma</td>\n",
       "      <td>Full Time</td>\n",
       "      <td>1209.56</td>\n",
       "      <td>Widowed</td>\n",
       "      <td>Female</td>\n",
       "      <td>No</td>\n",
       "      <td>16.870524</td>\n",
       "      <td>5</td>\n",
       "      <td>0</td>\n",
       "      <td>2</td>\n",
       "      <td>Yes</td>\n",
       "      <td>Elective Admission</td>\n",
       "      <td>No</td>\n",
       "      <td>No</td>\n",
       "      <td>Low</td>\n",
       "      <td>0.0</td>\n",
       "      <td>No</td>\n",
       "      <td>No</td>\n",
       "      <td>Yes</td>\n",
       "      <td>No</td>\n",
       "      <td>0.0</td>\n",
       "      <td>Yes</td>\n",
       "      <td>No</td>\n",
       "      <td>No</td>\n",
       "      <td>CT Scan</td>\n",
       "      <td>1.254807</td>\n",
       "      <td>1885.655137</td>\n",
       "      <td>3716.525786</td>\n",
       "      <td>2</td>\n",
       "      <td>1</td>\n",
       "      <td>3</td>\n",
       "      <td>3</td>\n",
       "      <td>5</td>\n",
       "      <td>3</td>\n",
       "      <td>4</td>\n",
       "      <td>3</td>\n",
       "    </tr>\n",
       "  </tbody>\n",
       "</table>\n",
       "</div>"
      ],
      "text/plain": [
       "   CaseOrder Customer_id                           Interaction  \\\n",
       "0          1     C412403  8cd49b13-f45a-4b47-a2bd-173ffa932c2f   \n",
       "1          2     Z919181  d2450b70-0337-4406-bdbb-bc1037f1734c   \n",
       "2          3     F995323  a2057123-abf5-4a2c-abad-8ffe33512562   \n",
       "3          4     A879973  1dec528d-eb34-4079-adce-0d7a40e82205   \n",
       "4          5     C544523  5885f56b-d6da-43a3-8760-83583af94266   \n",
       "\n",
       "                                UID          City State        County    Zip  \\\n",
       "0  3a83ddb66e2ae73798bdf1d705dc0932           Eva    AL        Morgan  35621   \n",
       "1  176354c5eef714957d486009feabf195      Marianna    FL       Jackson  32446   \n",
       "2  e19a0fa00aeda885b8a436757e889bc9   Sioux Falls    SD     Minnehaha  57110   \n",
       "3  cd17d7b6d152cb6f23957346d11c3f07  New Richland    MN        Waseca  56072   \n",
       "4  d2f0425877b10ed6bb381f3e2579424a    West Point    VA  King William  23181   \n",
       "\n",
       "        Lat       Lng  Population      Area          Timezone  \\\n",
       "0  34.34960 -86.72508        2951  Suburban   America/Chicago   \n",
       "1  30.84513 -85.22907       11303     Urban   America/Chicago   \n",
       "2  43.54321 -96.63772       17125  Suburban   America/Chicago   \n",
       "3  43.89744 -93.51479        2162  Suburban   America/Chicago   \n",
       "4  37.59894 -76.88958        5287     Rural  America/New_York   \n",
       "\n",
       "                                Job  Children   Age  \\\n",
       "0  Psychologist, sport and exercise       1.0  53.0   \n",
       "1      Community development worker       3.0  51.0   \n",
       "2           Chief Executive Officer       3.0  53.0   \n",
       "3               Early years teacher       0.0  78.0   \n",
       "4       Health promotion specialist       NaN  22.0   \n",
       "\n",
       "                                  Education Employment    Income   Marital  \\\n",
       "0            Some College, Less than 1 Year  Full Time  86575.93  Divorced   \n",
       "1  Some College, 1 or More Years, No Degree  Full Time  46805.99   Married   \n",
       "2  Some College, 1 or More Years, No Degree    Retired  14370.14   Widowed   \n",
       "3             GED or Alternative Credential    Retired  39741.49   Married   \n",
       "4               Regular High School Diploma  Full Time   1209.56   Widowed   \n",
       "\n",
       "   Gender ReAdmis  VitD_levels  Doc_visits  Full_meals_eaten  VitD_supp  \\\n",
       "0    Male      No    17.802330           6                 0          0   \n",
       "1  Female      No    18.994640           4                 2          1   \n",
       "2  Female      No    17.415889           4                 1          0   \n",
       "3    Male      No    17.420079           4                 1          0   \n",
       "4  Female      No    16.870524           5                 0          2   \n",
       "\n",
       "  Soft_drink        Initial_admin HighBlood Stroke Complication_risk  \\\n",
       "0        NaN  Emergency Admission       Yes     No            Medium   \n",
       "1         No  Emergency Admission       Yes     No              High   \n",
       "2         No   Elective Admission       Yes     No            Medium   \n",
       "3         No   Elective Admission        No    Yes            Medium   \n",
       "4        Yes   Elective Admission        No     No               Low   \n",
       "\n",
       "   Overweight Arthritis Diabetes Hyperlipidemia BackPain  Anxiety  \\\n",
       "0         0.0       Yes      Yes             No      Yes      1.0   \n",
       "1         1.0        No       No             No       No      NaN   \n",
       "2         1.0        No      Yes             No       No      NaN   \n",
       "3         0.0       Yes       No             No       No      NaN   \n",
       "4         0.0        No       No            Yes       No      0.0   \n",
       "\n",
       "  Allergic_rhinitis Reflux_esophagitis Asthma     Services  Initial_days  \\\n",
       "0               Yes                 No    Yes   Blood Work     10.585770   \n",
       "1                No                Yes     No  Intravenous     15.129562   \n",
       "2                No                 No     No   Blood Work      4.772177   \n",
       "3                No                Yes    Yes   Blood Work      1.714879   \n",
       "4               Yes                 No     No      CT Scan      1.254807   \n",
       "\n",
       "   TotalCharge  Additional_charges  Item1  Item2  Item3  Item4  Item5  Item6  \\\n",
       "0  3191.048774        17939.403420      3      3      2      2      4      3   \n",
       "1  4214.905346        17612.998120      3      4      3      4      4      4   \n",
       "2  2177.586768        17505.192460      2      4      4      4      3      4   \n",
       "3  2465.118965        12993.437350      3      5      5      3      4      5   \n",
       "4  1885.655137         3716.525786      2      1      3      3      5      3   \n",
       "\n",
       "   Item7  Item8  \n",
       "0      3      4  \n",
       "1      3      3  \n",
       "2      3      3  \n",
       "3      5      5  \n",
       "4      4      3  "
      ]
     },
     "execution_count": 7,
     "metadata": {},
     "output_type": "execute_result"
    }
   ],
   "source": [
    "df.head()"
   ]
  },
  {
   "cell_type": "markdown",
   "id": "36aae203-ae4b-4a84-bffe-0a622e2329fc",
   "metadata": {},
   "source": [
    "To make it easier for everyone to understand, it's a good idea to rename the columns labeled Item1 through Item8 to match the data dictionary.I'll rename these columns as follows:\n",
    "- Item1 -> Timely_Admission\n",
    "- Item2 -> Timely_Treatment\n",
    "- Item3 -> Timely_Visit\n",
    "- Item4 -> Reliability\n",
    "- Item5 -> Options\n",
    "- Item6 -> Treat_Hrs\n",
    "- Item7 -> Courteous_Staff\n",
    "- Item8 -> Active_Listening."
   ]
  },
  {
   "cell_type": "code",
   "execution_count": 8,
   "id": "aab21d7e-e41d-4dcc-9039-c5216dd35867",
   "metadata": {
    "ExecuteTime": {
     "end_time": "2023-05-29T02:53:13.076316Z",
     "start_time": "2023-05-29T02:53:13.064319Z"
    },
    "tags": []
   },
   "outputs": [],
   "source": [
    "df.rename(columns={'Item1': 'Timely_Admission', 'Item2': 'Timely_Treatment', 'Item3': 'Timely_Visit',\n",
    "                   'Item4': 'Reliability', 'Item5': 'Options', 'Item6': 'Treat_Hrs',\n",
    "                   'Item7': 'Courteous_Staff', 'Item8': 'Active_Listening'}, inplace=True)"
   ]
  },
  {
   "cell_type": "markdown",
   "id": "18902f6f-1f04-42fe-8825-60aa484274b0",
   "metadata": {},
   "source": [
    "A helpful way to identify differences is to highlight the unique values."
   ]
  },
  {
   "cell_type": "code",
   "execution_count": 9,
   "id": "150b28f2-6665-4d75-847f-e11f15b6cadf",
   "metadata": {
    "ExecuteTime": {
     "end_time": "2023-05-29T02:53:13.202318Z",
     "start_time": "2023-05-29T02:53:13.080320Z"
    },
    "scrolled": true,
    "tags": []
   },
   "outputs": [
    {
     "data": {
      "text/html": [
       "<div>\n",
       "<style scoped>\n",
       "    .dataframe tbody tr th:only-of-type {\n",
       "        vertical-align: middle;\n",
       "    }\n",
       "\n",
       "    .dataframe tbody tr th {\n",
       "        vertical-align: top;\n",
       "    }\n",
       "\n",
       "    .dataframe thead th {\n",
       "        text-align: right;\n",
       "    }\n",
       "</style>\n",
       "<table border=\"1\" class=\"dataframe\">\n",
       "  <thead>\n",
       "    <tr style=\"text-align: right;\">\n",
       "      <th></th>\n",
       "      <th>column</th>\n",
       "      <th>value</th>\n",
       "    </tr>\n",
       "  </thead>\n",
       "  <tbody>\n",
       "    <tr>\n",
       "      <th>0</th>\n",
       "      <td>CaseOrder</td>\n",
       "      <td>[1, 2, 3, 4, 5, 6, 7, 8, 9, 10, 11, 12, 13, 14...</td>\n",
       "    </tr>\n",
       "    <tr>\n",
       "      <th>1</th>\n",
       "      <td>Customer_id</td>\n",
       "      <td>[C412403, Z919181, F995323, A879973, C544523, ...</td>\n",
       "    </tr>\n",
       "    <tr>\n",
       "      <th>2</th>\n",
       "      <td>Interaction</td>\n",
       "      <td>[8cd49b13-f45a-4b47-a2bd-173ffa932c2f, d2450b7...</td>\n",
       "    </tr>\n",
       "    <tr>\n",
       "      <th>3</th>\n",
       "      <td>UID</td>\n",
       "      <td>[3a83ddb66e2ae73798bdf1d705dc0932, 176354c5eef...</td>\n",
       "    </tr>\n",
       "    <tr>\n",
       "      <th>4</th>\n",
       "      <td>City</td>\n",
       "      <td>[Eva, Marianna, Sioux Falls, New Richland, Wes...</td>\n",
       "    </tr>\n",
       "    <tr>\n",
       "      <th>5</th>\n",
       "      <td>State</td>\n",
       "      <td>[AL, FL, SD, MN, VA, OK, OH, MS, WI, IA, CA, I...</td>\n",
       "    </tr>\n",
       "    <tr>\n",
       "      <th>6</th>\n",
       "      <td>County</td>\n",
       "      <td>[Morgan, Jackson, Minnehaha, Waseca, King Will...</td>\n",
       "    </tr>\n",
       "    <tr>\n",
       "      <th>7</th>\n",
       "      <td>Zip</td>\n",
       "      <td>[35621, 32446, 57110, 56072, 23181, 74423, 440...</td>\n",
       "    </tr>\n",
       "    <tr>\n",
       "      <th>8</th>\n",
       "      <td>Lat</td>\n",
       "      <td>[34.3496, 30.84513, 43.54321, 43.89744, 37.598...</td>\n",
       "    </tr>\n",
       "    <tr>\n",
       "      <th>9</th>\n",
       "      <td>Lng</td>\n",
       "      <td>[-86.72508, -85.22907, -96.63772, -93.51479, -...</td>\n",
       "    </tr>\n",
       "    <tr>\n",
       "      <th>10</th>\n",
       "      <td>Population</td>\n",
       "      <td>[2951, 11303, 17125, 2162, 5287, 981, 2558, 47...</td>\n",
       "    </tr>\n",
       "    <tr>\n",
       "      <th>11</th>\n",
       "      <td>Area</td>\n",
       "      <td>[Suburban, Urban, Rural]</td>\n",
       "    </tr>\n",
       "    <tr>\n",
       "      <th>12</th>\n",
       "      <td>Timezone</td>\n",
       "      <td>[America/Chicago, America/New_York, America/Lo...</td>\n",
       "    </tr>\n",
       "    <tr>\n",
       "      <th>13</th>\n",
       "      <td>Job</td>\n",
       "      <td>[Psychologist, sport and exercise, Community d...</td>\n",
       "    </tr>\n",
       "    <tr>\n",
       "      <th>14</th>\n",
       "      <td>Children</td>\n",
       "      <td>[1.0, 3.0, 0.0, nan, 7.0, 2.0, 4.0, 10.0, 5.0,...</td>\n",
       "    </tr>\n",
       "    <tr>\n",
       "      <th>15</th>\n",
       "      <td>Age</td>\n",
       "      <td>[53.0, 51.0, 78.0, 22.0, 76.0, 50.0, 40.0, 48....</td>\n",
       "    </tr>\n",
       "    <tr>\n",
       "      <th>16</th>\n",
       "      <td>Education</td>\n",
       "      <td>[Some College, Less than 1 Year, Some College,...</td>\n",
       "    </tr>\n",
       "    <tr>\n",
       "      <th>17</th>\n",
       "      <td>Employment</td>\n",
       "      <td>[Full Time, Retired, Unemployed, Student, Part...</td>\n",
       "    </tr>\n",
       "    <tr>\n",
       "      <th>18</th>\n",
       "      <td>Income</td>\n",
       "      <td>[86575.93, 46805.99, 14370.14, 39741.49, 1209....</td>\n",
       "    </tr>\n",
       "    <tr>\n",
       "      <th>19</th>\n",
       "      <td>Marital</td>\n",
       "      <td>[Divorced, Married, Widowed, Never Married, Se...</td>\n",
       "    </tr>\n",
       "    <tr>\n",
       "      <th>20</th>\n",
       "      <td>Gender</td>\n",
       "      <td>[Male, Female, Prefer not to answer]</td>\n",
       "    </tr>\n",
       "    <tr>\n",
       "      <th>21</th>\n",
       "      <td>ReAdmis</td>\n",
       "      <td>[No, Yes]</td>\n",
       "    </tr>\n",
       "    <tr>\n",
       "      <th>22</th>\n",
       "      <td>VitD_levels</td>\n",
       "      <td>[17.80233049, 18.99463952, 17.4158887, 17.4200...</td>\n",
       "    </tr>\n",
       "    <tr>\n",
       "      <th>23</th>\n",
       "      <td>Doc_visits</td>\n",
       "      <td>[6, 4, 5, 7, 3, 2, 8, 9, 1]</td>\n",
       "    </tr>\n",
       "    <tr>\n",
       "      <th>24</th>\n",
       "      <td>Full_meals_eaten</td>\n",
       "      <td>[0, 2, 1, 3, 4, 5, 7, 6]</td>\n",
       "    </tr>\n",
       "    <tr>\n",
       "      <th>25</th>\n",
       "      <td>VitD_supp</td>\n",
       "      <td>[0, 1, 2, 3, 4, 5]</td>\n",
       "    </tr>\n",
       "    <tr>\n",
       "      <th>26</th>\n",
       "      <td>Soft_drink</td>\n",
       "      <td>[nan, No, Yes]</td>\n",
       "    </tr>\n",
       "    <tr>\n",
       "      <th>27</th>\n",
       "      <td>Initial_admin</td>\n",
       "      <td>[Emergency Admission, Elective Admission, Obse...</td>\n",
       "    </tr>\n",
       "    <tr>\n",
       "      <th>28</th>\n",
       "      <td>HighBlood</td>\n",
       "      <td>[Yes, No]</td>\n",
       "    </tr>\n",
       "    <tr>\n",
       "      <th>29</th>\n",
       "      <td>Stroke</td>\n",
       "      <td>[No, Yes]</td>\n",
       "    </tr>\n",
       "    <tr>\n",
       "      <th>30</th>\n",
       "      <td>Complication_risk</td>\n",
       "      <td>[Medium, High, Low]</td>\n",
       "    </tr>\n",
       "    <tr>\n",
       "      <th>31</th>\n",
       "      <td>Overweight</td>\n",
       "      <td>[0.0, 1.0, nan]</td>\n",
       "    </tr>\n",
       "    <tr>\n",
       "      <th>32</th>\n",
       "      <td>Arthritis</td>\n",
       "      <td>[Yes, No]</td>\n",
       "    </tr>\n",
       "    <tr>\n",
       "      <th>33</th>\n",
       "      <td>Diabetes</td>\n",
       "      <td>[Yes, No]</td>\n",
       "    </tr>\n",
       "    <tr>\n",
       "      <th>34</th>\n",
       "      <td>Hyperlipidemia</td>\n",
       "      <td>[No, Yes]</td>\n",
       "    </tr>\n",
       "    <tr>\n",
       "      <th>35</th>\n",
       "      <td>BackPain</td>\n",
       "      <td>[Yes, No]</td>\n",
       "    </tr>\n",
       "    <tr>\n",
       "      <th>36</th>\n",
       "      <td>Anxiety</td>\n",
       "      <td>[1.0, nan, 0.0]</td>\n",
       "    </tr>\n",
       "    <tr>\n",
       "      <th>37</th>\n",
       "      <td>Allergic_rhinitis</td>\n",
       "      <td>[Yes, No]</td>\n",
       "    </tr>\n",
       "    <tr>\n",
       "      <th>38</th>\n",
       "      <td>Reflux_esophagitis</td>\n",
       "      <td>[No, Yes]</td>\n",
       "    </tr>\n",
       "    <tr>\n",
       "      <th>39</th>\n",
       "      <td>Asthma</td>\n",
       "      <td>[Yes, No]</td>\n",
       "    </tr>\n",
       "    <tr>\n",
       "      <th>40</th>\n",
       "      <td>Services</td>\n",
       "      <td>[Blood Work, Intravenous, CT Scan, MRI]</td>\n",
       "    </tr>\n",
       "    <tr>\n",
       "      <th>41</th>\n",
       "      <td>Initial_days</td>\n",
       "      <td>[10.58576971, 15.12956221, 4.772177208, 1.7148...</td>\n",
       "    </tr>\n",
       "    <tr>\n",
       "      <th>42</th>\n",
       "      <td>TotalCharge</td>\n",
       "      <td>[3191.048774, 4214.905346, 2177.586768, 2465.1...</td>\n",
       "    </tr>\n",
       "    <tr>\n",
       "      <th>43</th>\n",
       "      <td>Additional_charges</td>\n",
       "      <td>[17939.40342, 17612.99812, 17505.19246, 12993....</td>\n",
       "    </tr>\n",
       "    <tr>\n",
       "      <th>44</th>\n",
       "      <td>Timely_Admission</td>\n",
       "      <td>[3, 2, 4, 1, 5, 7, 6, 8]</td>\n",
       "    </tr>\n",
       "    <tr>\n",
       "      <th>45</th>\n",
       "      <td>Timely_Treatment</td>\n",
       "      <td>[3, 4, 5, 1, 2, 6, 7]</td>\n",
       "    </tr>\n",
       "    <tr>\n",
       "      <th>46</th>\n",
       "      <td>Timely_Visit</td>\n",
       "      <td>[2, 3, 4, 5, 1, 6, 7, 8]</td>\n",
       "    </tr>\n",
       "    <tr>\n",
       "      <th>47</th>\n",
       "      <td>Reliability</td>\n",
       "      <td>[2, 4, 3, 5, 6, 1, 7]</td>\n",
       "    </tr>\n",
       "    <tr>\n",
       "      <th>48</th>\n",
       "      <td>Options</td>\n",
       "      <td>[4, 3, 5, 2, 6, 1, 7]</td>\n",
       "    </tr>\n",
       "    <tr>\n",
       "      <th>49</th>\n",
       "      <td>Treat_Hrs</td>\n",
       "      <td>[3, 4, 5, 2, 6, 1, 7]</td>\n",
       "    </tr>\n",
       "    <tr>\n",
       "      <th>50</th>\n",
       "      <td>Courteous_Staff</td>\n",
       "      <td>[3, 5, 4, 2, 6, 1, 7]</td>\n",
       "    </tr>\n",
       "    <tr>\n",
       "      <th>51</th>\n",
       "      <td>Active_Listening</td>\n",
       "      <td>[4, 3, 5, 6, 2, 1, 7]</td>\n",
       "    </tr>\n",
       "  </tbody>\n",
       "</table>\n",
       "</div>"
      ],
      "text/plain": [
       "                column                                              value\n",
       "0            CaseOrder  [1, 2, 3, 4, 5, 6, 7, 8, 9, 10, 11, 12, 13, 14...\n",
       "1          Customer_id  [C412403, Z919181, F995323, A879973, C544523, ...\n",
       "2          Interaction  [8cd49b13-f45a-4b47-a2bd-173ffa932c2f, d2450b7...\n",
       "3                  UID  [3a83ddb66e2ae73798bdf1d705dc0932, 176354c5eef...\n",
       "4                 City  [Eva, Marianna, Sioux Falls, New Richland, Wes...\n",
       "5                State  [AL, FL, SD, MN, VA, OK, OH, MS, WI, IA, CA, I...\n",
       "6               County  [Morgan, Jackson, Minnehaha, Waseca, King Will...\n",
       "7                  Zip  [35621, 32446, 57110, 56072, 23181, 74423, 440...\n",
       "8                  Lat  [34.3496, 30.84513, 43.54321, 43.89744, 37.598...\n",
       "9                  Lng  [-86.72508, -85.22907, -96.63772, -93.51479, -...\n",
       "10          Population  [2951, 11303, 17125, 2162, 5287, 981, 2558, 47...\n",
       "11                Area                           [Suburban, Urban, Rural]\n",
       "12            Timezone  [America/Chicago, America/New_York, America/Lo...\n",
       "13                 Job  [Psychologist, sport and exercise, Community d...\n",
       "14            Children  [1.0, 3.0, 0.0, nan, 7.0, 2.0, 4.0, 10.0, 5.0,...\n",
       "15                 Age  [53.0, 51.0, 78.0, 22.0, 76.0, 50.0, 40.0, 48....\n",
       "16           Education  [Some College, Less than 1 Year, Some College,...\n",
       "17          Employment  [Full Time, Retired, Unemployed, Student, Part...\n",
       "18              Income  [86575.93, 46805.99, 14370.14, 39741.49, 1209....\n",
       "19             Marital  [Divorced, Married, Widowed, Never Married, Se...\n",
       "20              Gender               [Male, Female, Prefer not to answer]\n",
       "21             ReAdmis                                          [No, Yes]\n",
       "22         VitD_levels  [17.80233049, 18.99463952, 17.4158887, 17.4200...\n",
       "23          Doc_visits                        [6, 4, 5, 7, 3, 2, 8, 9, 1]\n",
       "24    Full_meals_eaten                           [0, 2, 1, 3, 4, 5, 7, 6]\n",
       "25           VitD_supp                                 [0, 1, 2, 3, 4, 5]\n",
       "26          Soft_drink                                     [nan, No, Yes]\n",
       "27       Initial_admin  [Emergency Admission, Elective Admission, Obse...\n",
       "28           HighBlood                                          [Yes, No]\n",
       "29              Stroke                                          [No, Yes]\n",
       "30   Complication_risk                                [Medium, High, Low]\n",
       "31          Overweight                                    [0.0, 1.0, nan]\n",
       "32           Arthritis                                          [Yes, No]\n",
       "33            Diabetes                                          [Yes, No]\n",
       "34      Hyperlipidemia                                          [No, Yes]\n",
       "35            BackPain                                          [Yes, No]\n",
       "36             Anxiety                                    [1.0, nan, 0.0]\n",
       "37   Allergic_rhinitis                                          [Yes, No]\n",
       "38  Reflux_esophagitis                                          [No, Yes]\n",
       "39              Asthma                                          [Yes, No]\n",
       "40            Services            [Blood Work, Intravenous, CT Scan, MRI]\n",
       "41        Initial_days  [10.58576971, 15.12956221, 4.772177208, 1.7148...\n",
       "42         TotalCharge  [3191.048774, 4214.905346, 2177.586768, 2465.1...\n",
       "43  Additional_charges  [17939.40342, 17612.99812, 17505.19246, 12993....\n",
       "44    Timely_Admission                           [3, 2, 4, 1, 5, 7, 6, 8]\n",
       "45    Timely_Treatment                              [3, 4, 5, 1, 2, 6, 7]\n",
       "46        Timely_Visit                           [2, 3, 4, 5, 1, 6, 7, 8]\n",
       "47         Reliability                              [2, 4, 3, 5, 6, 1, 7]\n",
       "48             Options                              [4, 3, 5, 2, 6, 1, 7]\n",
       "49           Treat_Hrs                              [3, 4, 5, 2, 6, 1, 7]\n",
       "50     Courteous_Staff                              [3, 5, 4, 2, 6, 1, 7]\n",
       "51    Active_Listening                              [4, 3, 5, 6, 2, 1, 7]"
      ]
     },
     "execution_count": 9,
     "metadata": {},
     "output_type": "execute_result"
    }
   ],
   "source": [
    "# Get the unique values for each column.\n",
    "unique_values = [df[column].unique() for column in df]\n",
    "\n",
    "# Return a dataframe of all unique values.\n",
    "df_unique=pd.DataFrame({'column': df.columns, 'value': unique_values})\n",
    "df_unique"
   ]
  },
  {
   "cell_type": "markdown",
   "id": "08aa1e96",
   "metadata": {},
   "source": [
    "Next up, I'll make sure all the information is formatted correctly. For instance, I'll adjust the number of children from decimal to its proper format."
   ]
  },
  {
   "cell_type": "code",
   "execution_count": 10,
   "id": "55f0f782-16e1-4b9a-89dc-1489f5a7befc",
   "metadata": {
    "ExecuteTime": {
     "end_time": "2023-05-29T02:53:13.770541Z",
     "start_time": "2023-05-29T02:53:13.209320Z"
    },
    "tags": []
   },
   "outputs": [],
   "source": [
    "# Round and convert to integer.\n",
    "df['Age'] = df['Age'].astype('Int64', errors='ignore')\n",
    "df['Children'] = df['Children'].astype('Int64', errors='ignore')\n",
    "df['Overweight'] = df['Overweight'].astype('Int64', errors='ignore')\n",
    "df['Anxiety'] = df['Anxiety'].astype('Int64', errors='ignore')\n",
    "\n",
    "\n",
    "# Round to fit currency format\n",
    "df['TotalCharge']= df['TotalCharge'].round(2)\n",
    "df['Additional_charges']= df['Additional_charges'].round(2)\n",
    "\n",
    "\n",
    "# Convert all strings to lowercase\n",
    "df = df.applymap(lambda s: s.lower() if type(s) == str else s)\n",
    "# Replace all yes/no responses with 1 and 0 respectively \n",
    "df.replace({'yes': int(1), 'no': int(0)},inplace=True)\n",
    "# Convert to integer.\n",
    "df['Soft_drink'] = df['Soft_drink'].astype('Int64', errors='ignore')\n"
   ]
  },
  {
   "cell_type": "markdown",
   "id": "1e99d196-678d-4a1e-b0fc-a8b162e33ffc",
   "metadata": {
    "tags": []
   },
   "source": [
    "## Handling Missing Values\n"
   ]
  },
  {
   "cell_type": "markdown",
   "id": "f688244c",
   "metadata": {},
   "source": [
    "To handle any missing data, I will assess the amount and type of absent data. \n",
    "\n",
    "Below the graph shows the several columns have missing values, including Children, Age, Income, Soft_drink, Overweight, Anxiety, and Initial_days. Decisions will need to be made on how to handle these, such as imputing or removing records with missing values."
   ]
  },
  {
   "cell_type": "code",
   "execution_count": 11,
   "id": "2de3f069-97a8-4e45-a019-5457e0e719fb",
   "metadata": {
    "ExecuteTime": {
     "end_time": "2023-05-29T02:53:14.260545Z",
     "start_time": "2023-05-29T02:53:13.774543Z"
    },
    "tags": []
   },
   "outputs": [
    {
     "data": {
      "image/png": "[encoded data removed]",
      "text/plain": [
       "<Figure size 640x480 with 1 Axes>"
      ]
     },
     "metadata": {},
     "output_type": "display_data"
    }
   ],
   "source": [
    "# Filter columns with missing values\n",
    "columns_with_missing = df.columns[df.isna().any()].tolist()\n",
    "df_missing = df[columns_with_missing]\n",
    "\n",
    "# Count missing values in each column\n",
    "missing_counts = df_missing.isna().sum()\n",
    "\n",
    "columns_pretty = [str.replace(x,'_',' ') for x in columns_with_missing]\n",
    "\n",
    "# Plot histogram\n",
    "plt.bar(columns_pretty, missing_counts.values)\n",
    "plt.xlabel('Columns')\n",
    "plt.ylabel('Missing Value Count')\n",
    "plt.title('Missing Values per Column')\n",
    "plt.xticks(rotation=45)\n",
    "plt.show()"
   ]
  },
  {
   "cell_type": "markdown",
   "id": "bb014b62",
   "metadata": {},
   "source": [
    "### Soft_drink Categorical (binary):"
   ]
  },
  {
   "cell_type": "markdown",
   "id": "8aacbd4d",
   "metadata": {},
   "source": [
    "In order to address the missing values in the Soft_drink column, I have decided to use the mode imputation method. This approach is suitable for binary categories and although it may introduce some bias, I believe that the feature is not significant enough to cause any major issues."
   ]
  },
  {
   "cell_type": "code",
   "execution_count": 12,
   "id": "62c6da30-4705-45a2-8cd8-ba7f889e79ef",
   "metadata": {
    "ExecuteTime": {
     "end_time": "2023-05-29T02:53:14.704542Z",
     "start_time": "2023-05-29T02:53:14.264545Z"
    },
    "tags": []
   },
   "outputs": [],
   "source": [
    "drink = df['Soft_drink'].dropna().astype('Int64').to_numpy()"
   ]
  },
  {
   "cell_type": "code",
   "execution_count": 13,
   "id": "cd8f3991-1104-42d9-94a5-90fbdb66d7e4",
   "metadata": {
    "ExecuteTime": {
     "end_time": "2023-05-29T02:53:14.704542Z",
     "start_time": "2023-05-29T02:53:14.264545Z"
    },
    "tags": []
   },
   "outputs": [
    {
     "data": {
      "image/png": "[encoded data removed]",
      "text/plain": [
       "<Figure size 640x480 with 1 Axes>"
      ]
     },
     "metadata": {},
     "output_type": "display_data"
    }
   ],
   "source": [
    "ax = sns.histplot(drink,discrete=True,color='#54478C');\n",
    "ax.set(xticks=[0, 1]);\n",
    "ax.set(xticklabels=['No','Yes']);\n",
    "ax.set_xlabel('Soft drink');"
   ]
  },
  {
   "cell_type": "code",
   "execution_count": 14,
   "id": "7fa714cb-c03f-4777-93be-b2ddf9b36ad5",
   "metadata": {
    "tags": []
   },
   "outputs": [],
   "source": [
    "df['Soft_drink'].fillna(0,inplace=True)"
   ]
  },
  {
   "cell_type": "code",
   "execution_count": 15,
   "id": "e8a3f6c0-8401-42fc-ae8b-4f0777c75716",
   "metadata": {
    "tags": []
   },
   "outputs": [
    {
     "data": {
      "image/png": "[encoded data removed]",
      "text/plain": [
       "<Figure size 640x480 with 1 Axes>"
      ]
     },
     "metadata": {},
     "output_type": "display_data"
    }
   ],
   "source": [
    "drink=df['Soft_drink'].astype('Int64').to_numpy()\n",
    "ax = sns.histplot(drink,discrete=True,color='#54478C');\n",
    "ax.set(xticks=[0, 1]);\n",
    "ax.set(xticklabels=['No','Yes']);\n",
    "ax.set_xlabel('Soft drink');"
   ]
  },
  {
   "cell_type": "markdown",
   "id": "20666d8d",
   "metadata": {},
   "source": [
    "### Overweight: Categorical (binary) "
   ]
  },
  {
   "cell_type": "markdown",
   "id": "b55a78fd",
   "metadata": {
    "hide_input": true
   },
   "source": [
    "There are some missing values in the overweight category that could affect our analysis. To avoid a large bias, I'll remove any missing data. "
   ]
  },
  {
   "cell_type": "code",
   "execution_count": 16,
   "id": "d2657e6d-ecdb-4901-b835-c91fe5245255",
   "metadata": {
    "ExecuteTime": {
     "end_time": "2023-05-29T02:53:15.160545Z",
     "start_time": "2023-05-29T02:53:14.711544Z"
    },
    "tags": []
   },
   "outputs": [
    {
     "data": {
      "image/png": "[encoded data removed]",
      "text/plain": [
       "<Figure size 640x480 with 1 Axes>"
      ]
     },
     "metadata": {},
     "output_type": "display_data"
    }
   ],
   "source": [
    "ax = sns.histplot(df['Overweight'].dropna(),discrete=True,color='#048BA8');\n",
    "df.dropna(subset=['Overweight'], inplace=True)\n",
    "ax.set(xticks=[0, 1]);\n",
    "ax.set(xticklabels=['No','Yes']);"
   ]
  },
  {
   "cell_type": "markdown",
   "id": "4c8a99dc",
   "metadata": {},
   "source": [
    "### Anxiety: Categorical (binary)"
   ]
  },
  {
   "cell_type": "markdown",
   "id": "a2c0bfbc",
   "metadata": {},
   "source": [
    "Like the Overweight feature, the missing values could affect our analysis. I'll remove any lost data. "
   ]
  },
  {
   "cell_type": "code",
   "execution_count": 17,
   "id": "28cedda6",
   "metadata": {
    "ExecuteTime": {
     "end_time": "2023-05-29T02:53:15.649408Z",
     "start_time": "2023-05-29T02:53:15.164552Z"
    },
    "tags": []
   },
   "outputs": [
    {
     "data": {
      "image/png": "[encoded data removed]",
      "text/plain": [
       "<Figure size 640x480 with 1 Axes>"
      ]
     },
     "metadata": {},
     "output_type": "display_data"
    }
   ],
   "source": [
    "ax = sns.histplot(df['Anxiety'].dropna(),discrete=True,color='#0DB39E');\n",
    "df.dropna(subset=['Anxiety'], inplace=True)\n",
    "ax.set(xticks=[0, 1]);\n",
    "ax.set(xticklabels=['No','Yes']);"
   ]
  },
  {
   "cell_type": "markdown",
   "id": "3ca7c425",
   "metadata": {},
   "source": [
    "### Initial_days: Numerical (float):\n",
    "Initial days represents the number of days since an initial event. I'll use KKN because it provides a good balance between computational cost and accuracy, especially if there are related features that can help predict this column."
   ]
  },
  {
   "cell_type": "code",
   "execution_count": 18,
   "id": "56e5a68b-92f8-492b-b1fc-019b5a9fc30e",
   "metadata": {
    "ExecuteTime": {
     "end_time": "2023-05-29T02:53:16.007200Z",
     "start_time": "2023-05-29T02:53:15.652412Z"
    },
    "tags": []
   },
   "outputs": [
    {
     "data": {
      "image/png": "[encoded data removed]",
      "text/plain": [
       "<Figure size 500x500 with 1 Axes>"
      ]
     },
     "metadata": {},
     "output_type": "display_data"
    }
   ],
   "source": [
    "ax = sns.displot(df['Initial_days'], kde=True,color='#16DB93');\n",
    "ax.set_axis_labels(x_var='Initial Days');"
   ]
  },
  {
   "cell_type": "code",
   "execution_count": 19,
   "id": "4d917d48-2d90-4593-84c5-5e2f71e5ed3b",
   "metadata": {
    "tags": []
   },
   "outputs": [],
   "source": [
    "knn_imputer_median = KNNImputer(n_neighbors=3)\n",
    "df['Income'] = knn_imputer_median.fit_transform(df['Income'].to_numpy().reshape(-1, 1))"
   ]
  },
  {
   "cell_type": "code",
   "execution_count": 20,
   "id": "6f0bec92-9f37-4444-b804-532720d9f1ac",
   "metadata": {
    "ExecuteTime": {
     "end_time": "2023-05-29T02:53:16.023204Z",
     "start_time": "2023-05-29T02:53:16.011204Z"
    }
   },
   "outputs": [
    {
     "data": {
      "image/png": "[encoded data removed]",
      "text/plain": [
       "<Figure size 500x500 with 1 Axes>"
      ]
     },
     "metadata": {},
     "output_type": "display_data"
    }
   ],
   "source": [
    "ax = sns.displot(df['Initial_days'], kde=True,color='#16DB93');\n",
    "ax.set_axis_labels(x_var='Initial Days');"
   ]
  },
  {
   "cell_type": "markdown",
   "id": "74e7455b",
   "metadata": {},
   "source": [
    "### Income Numerical (float):"
   ]
  },
  {
   "cell_type": "markdown",
   "id": "a63039a6",
   "metadata": {},
   "source": [
    "Median imputation has the advantage of being robust against outliers.Given the spread and potential outliers in income, I'll use the median to fill in the missing values.\n"
   ]
  },
  {
   "cell_type": "code",
   "execution_count": 21,
   "id": "7a9161c3",
   "metadata": {
    "ExecuteTime": {
     "end_time": "2023-05-29T02:53:16.419200Z",
     "start_time": "2023-05-29T02:53:16.030202Z"
    },
    "tags": []
   },
   "outputs": [
    {
     "data": {
      "image/png": "[encoded data removed]",
      "text/plain": [
       "<Figure size 500x500 with 1 Axes>"
      ]
     },
     "metadata": {},
     "output_type": "display_data"
    }
   ],
   "source": [
    "ax = sns.displot(df['Income'],kde = True ,color='#83E377');\n",
    "ax.set_axis_labels(x_var='Income');"
   ]
  },
  {
   "cell_type": "code",
   "execution_count": 22,
   "id": "86406f09-1540-4b91-8d0f-b83635907acc",
   "metadata": {
    "ExecuteTime": {
     "end_time": "2023-05-29T02:53:16.435200Z",
     "start_time": "2023-05-29T02:53:16.422203Z"
    }
   },
   "outputs": [
    {
     "data": {
      "image/png": "[encoded data removed]",
      "text/plain": [
       "<Figure size 500x500 with 1 Axes>"
      ]
     },
     "metadata": {},
     "output_type": "display_data"
    }
   ],
   "source": [
    "simple_imputer_median = SimpleImputer(strategy='median')\n",
    "df['Income'] = simple_imputer_median.fit_transform(df['Income'].to_numpy().reshape(-1, 1))\n",
    "ax = sns.displot(df['Income'],kde = True,color='#83E377',);"
   ]
  },
  {
   "cell_type": "markdown",
   "id": "841ebce8",
   "metadata": {},
   "source": [
    "### Age: Numerical (int)"
   ]
  },
  {
   "cell_type": "markdown",
   "id": "d4f22721",
   "metadata": {},
   "source": [
    "Given its fairly even spread, the median will be best for simple imputation."
   ]
  },
  {
   "cell_type": "code",
   "execution_count": 23,
   "id": "670ef7ab",
   "metadata": {
    "ExecuteTime": {
     "end_time": "2023-05-29T02:53:16.794202Z",
     "start_time": "2023-05-29T02:53:16.438203Z"
    }
   },
   "outputs": [
    {
     "data": {
      "image/png": "[encoded data removed]",
      "text/plain": [
       "<Figure size 640x480 with 1 Axes>"
      ]
     },
     "metadata": {},
     "output_type": "display_data"
    }
   ],
   "source": [
    "ax = sns.histplot(df['Age'].dropna(),discrete=True,color='#B9E769');"
   ]
  },
  {
   "cell_type": "code",
   "execution_count": 24,
   "id": "c9cbfbf5-eea4-4bef-a469-c50d962c6848",
   "metadata": {
    "ExecuteTime": {
     "end_time": "2023-05-29T02:53:16.809207Z",
     "start_time": "2023-05-29T02:53:16.797202Z"
    }
   },
   "outputs": [],
   "source": [
    "# Filled in with the median.\n",
    "df['Age'] = df['Age'].apply(lambda x: np.nan if pd.isna(x) else x)\n",
    "simple_imputer_median = SimpleImputer(strategy='median')\n",
    "df['Age'] = simple_imputer_median.fit_transform(np.array(df['Age']).reshape(-1,1))"
   ]
  },
  {
   "cell_type": "code",
   "execution_count": 25,
   "id": "3bb71353-9342-4a32-b22f-429929e4eb27",
   "metadata": {
    "tags": []
   },
   "outputs": [
    {
     "data": {
      "image/png": "[encoded data removed]",
      "text/plain": [
       "<Figure size 640x480 with 1 Axes>"
      ]
     },
     "metadata": {},
     "output_type": "display_data"
    }
   ],
   "source": [
    "ax = sns.histplot(df['Age'],discrete=True,color='#B9E769');"
   ]
  },
  {
   "cell_type": "markdown",
   "id": "0496a2a5",
   "metadata": {},
   "source": [
    "### Children Numerical (int):"
   ]
  },
  {
   "cell_type": "markdown",
   "id": "ab6f5093",
   "metadata": {},
   "source": [
    "For this column, I'll use the median to fill in missing values."
   ]
  },
  {
   "cell_type": "code",
   "execution_count": 26,
   "id": "0947977b",
   "metadata": {
    "ExecuteTime": {
     "end_time": "2023-05-29T02:53:17.155201Z",
     "start_time": "2023-05-29T02:53:16.814205Z"
    }
   },
   "outputs": [
    {
     "data": {
      "image/png": "[encoded data removed]",
      "text/plain": [
       "<Figure size 640x480 with 1 Axes>"
      ]
     },
     "metadata": {},
     "output_type": "display_data"
    }
   ],
   "source": [
    "df['Children'] = df['Children'].apply(lambda x: np.nan if pd.isna(x) else x)\n",
    "\n",
    "# Filter out NaN values before plotting\n",
    "filtered_data = df['Children'].dropna()\n",
    "\n",
    "sns.histplot(filtered_data, discrete=True,color='#EFEA5A');"
   ]
  },
  {
   "cell_type": "code",
   "execution_count": 27,
   "id": "56d6a4c9-b36c-4c8b-aebd-55b72714d024",
   "metadata": {
    "ExecuteTime": {
     "end_time": "2023-05-29T02:53:17.170205Z",
     "start_time": "2023-05-29T02:53:17.158203Z"
    }
   },
   "outputs": [
    {
     "data": {
      "image/png": "[encoded data removed]",
      "text/plain": [
       "<Figure size 640x480 with 1 Axes>"
      ]
     },
     "metadata": {},
     "output_type": "display_data"
    }
   ],
   "source": [
    "# Fill in nulls for Children column with the median\n",
    "df['Children'].fillna(df['Children'].median(),inplace=True)\n",
    "sns.histplot(df['Children'],discrete=True,color='#EFEA5A');"
   ]
  },
  {
   "cell_type": "markdown",
   "id": "b0dee1d2",
   "metadata": {},
   "source": [
    "Let's see if we handled all the null values."
   ]
  },
  {
   "cell_type": "code",
   "execution_count": 28,
   "id": "1cabac06",
   "metadata": {
    "ExecuteTime": {
     "end_time": "2023-05-29T02:53:17.185202Z",
     "start_time": "2023-05-29T02:53:17.175206Z"
    }
   },
   "outputs": [
    {
     "data": {
      "text/plain": [
       "False"
      ]
     },
     "execution_count": 28,
     "metadata": {},
     "output_type": "execute_result"
    }
   ],
   "source": [
    "df.columns.isna().any()"
   ]
  },
  {
   "cell_type": "markdown",
   "id": "7e4d5080",
   "metadata": {},
   "source": [
    "## Handling Outliers"
   ]
  },
  {
   "cell_type": "markdown",
   "id": "c51e4091",
   "metadata": {},
   "source": [
    "### Income"
   ]
  },
  {
   "cell_type": "code",
   "execution_count": 29,
   "id": "b9c56218",
   "metadata": {
    "ExecuteTime": {
     "end_time": "2023-05-29T02:53:17.359205Z",
     "start_time": "2023-05-29T02:53:17.190203Z"
    },
    "tags": []
   },
   "outputs": [
    {
     "data": {
      "image/png": "[encoded data removed]",
      "text/plain": [
       "<Figure size 640x480 with 1 Axes>"
      ]
     },
     "metadata": {},
     "output_type": "display_data"
    }
   ],
   "source": [
    "ax = sns.boxplot(df['Income'],color='#83E377');\n",
    "ax.set_xlabel(xlabel='Income');"
   ]
  },
  {
   "cell_type": "markdown",
   "id": "3d6c3c0b",
   "metadata": {},
   "source": [
    "After analyzing the graph, capping the income would be best.\n",
    "I decided on using the IQR method for this feature."
   ]
  },
  {
   "cell_type": "code",
   "execution_count": 30,
   "id": "6c46b0de-6cd3-4b7e-a80b-bee4c0f4a03f",
   "metadata": {
    "ExecuteTime": {
     "end_time": "2023-05-29T02:53:17.375206Z",
     "start_time": "2023-05-29T02:53:17.363203Z"
    },
    "tags": []
   },
   "outputs": [],
   "source": [
    "Q1 = df['Income'].quantile(0.25)\n",
    "Q3 = df['Income'].quantile(0.75)\n",
    "IQR = Q3 - Q1\n",
    "\n",
    "lower_bound = Q1 - 1.5 * IQR\n",
    "upper_bound = Q3 + 1.5 * IQR\n",
    "\n",
    "# Cap the outliers\n",
    "df['Income'] = np.where(df['Income'] < lower_bound, lower_bound, df['Income'])\n",
    "df['Income'] = np.where(df['Income'] > upper_bound, upper_bound, df['Income'])"
   ]
  },
  {
   "cell_type": "code",
   "execution_count": 31,
   "id": "a5493f0f-cb98-4ee2-8d08-d5629435d683",
   "metadata": {
    "ExecuteTime": {
     "end_time": "2023-05-29T02:53:17.562999Z",
     "start_time": "2023-05-29T02:53:17.378204Z"
    },
    "tags": []
   },
   "outputs": [
    {
     "data": {
      "image/png": "[encoded data removed]",
      "text/plain": [
       "<Figure size 640x480 with 1 Axes>"
      ]
     },
     "metadata": {},
     "output_type": "display_data"
    }
   ],
   "source": [
    "ax = sns.boxplot(df['Income'],color='#83E377');\n",
    "ax.set_xlabel(xlabel='Income');"
   ]
  },
  {
   "cell_type": "markdown",
   "id": "69728542",
   "metadata": {},
   "source": [
    "### Children"
   ]
  },
  {
   "cell_type": "code",
   "execution_count": 32,
   "id": "b395225d",
   "metadata": {
    "ExecuteTime": {
     "end_time": "2023-05-29T02:53:17.766002Z",
     "start_time": "2023-05-29T02:53:17.568000Z"
    },
    "tags": []
   },
   "outputs": [
    {
     "data": {
      "image/png": "[encoded data removed]",
      "text/plain": [
       "<Figure size 640x480 with 1 Axes>"
      ]
     },
     "metadata": {},
     "output_type": "display_data"
    }
   ],
   "source": [
    "ax = sns.boxplot(df['Children'],color='#EFEA5A');\n",
    "ax.set_xlabel(xlabel='Children');"
   ]
  },
  {
   "cell_type": "code",
   "execution_count": 33,
   "id": "f3866718",
   "metadata": {
    "ExecuteTime": {
     "end_time": "2023-05-29T02:53:17.796008Z",
     "start_time": "2023-05-29T02:53:17.773014Z"
    }
   },
   "outputs": [
    {
     "data": {
      "text/plain": [
       "Children\n",
       "1.0     3605\n",
       "0.0     1532\n",
       "3.0      920\n",
       "2.0      882\n",
       "4.0      603\n",
       "7.0      128\n",
       "8.0      124\n",
       "6.0      115\n",
       "5.0      100\n",
       "9.0       73\n",
       "10.0      44\n",
       "Name: count, dtype: int64"
      ]
     },
     "execution_count": 33,
     "metadata": {},
     "output_type": "execute_result"
    }
   ],
   "source": [
    "df['Children'].value_counts()"
   ]
  },
  {
   "cell_type": "markdown",
   "id": "6bd8e46d",
   "metadata": {},
   "source": [
    "Upon examining the graph and taking other factors into account, I'll cap the number of children at six."
   ]
  },
  {
   "cell_type": "code",
   "execution_count": 34,
   "id": "b6f13a47",
   "metadata": {
    "ExecuteTime": {
     "end_time": "2023-05-29T02:53:17.812004Z",
     "start_time": "2023-05-29T02:53:17.800002Z"
    }
   },
   "outputs": [],
   "source": [
    "df.loc[df['Children'] > 6, 'Children'] = 6"
   ]
  },
  {
   "cell_type": "code",
   "execution_count": 35,
   "id": "37817b5b",
   "metadata": {
    "ExecuteTime": {
     "end_time": "2023-05-29T02:53:17.999001Z",
     "start_time": "2023-05-29T02:53:17.816005Z"
    }
   },
   "outputs": [
    {
     "data": {
      "image/png": "[encoded data removed]",
      "text/plain": [
       "<Figure size 640x480 with 1 Axes>"
      ]
     },
     "metadata": {},
     "output_type": "display_data"
    }
   ],
   "source": [
    "ax = sns.boxplot(df['Children'],color='#EFEA5A');\n",
    "ax.set_xlabel(xlabel='Children');"
   ]
  },
  {
   "cell_type": "markdown",
   "id": "228754b5",
   "metadata": {},
   "source": [
    "### Vitamin D Levels"
   ]
  },
  {
   "cell_type": "code",
   "execution_count": 36,
   "id": "d60babf1",
   "metadata": {
    "ExecuteTime": {
     "end_time": "2023-05-29T02:53:18.185046Z",
     "start_time": "2023-05-29T02:53:18.005006Z"
    }
   },
   "outputs": [
    {
     "data": {
      "image/png": "[encoded data removed]",
      "text/plain": [
       "<Figure size 640x480 with 1 Axes>"
      ]
     },
     "metadata": {},
     "output_type": "display_data"
    }
   ],
   "source": [
    "ax = sns.boxplot(df['VitD_levels'],color='#F1C453');\n",
    "ax.set_xlabel(xlabel='Vitamin D Levels');"
   ]
  },
  {
   "cell_type": "code",
   "execution_count": 37,
   "id": "175d0193",
   "metadata": {
    "ExecuteTime": {
     "end_time": "2023-05-29T02:53:18.217043Z",
     "start_time": "2023-05-29T02:53:18.190001Z"
    }
   },
   "outputs": [
    {
     "data": {
      "text/plain": [
       "count    8126.000000\n",
       "mean       19.421148\n",
       "std         6.747111\n",
       "min         9.574292\n",
       "25%        16.519552\n",
       "50%        18.078905\n",
       "75%        19.800599\n",
       "max        53.019124\n",
       "Name: VitD_levels, dtype: float64"
      ]
     },
     "execution_count": 37,
     "metadata": {},
     "output_type": "execute_result"
    }
   ],
   "source": [
    "df['VitD_levels'].describe()"
   ]
  },
  {
   "cell_type": "markdown",
   "id": "cd3f353c",
   "metadata": {},
   "source": [
    "For the VitD levels, I used the IQR method followed by capping"
   ]
  },
  {
   "cell_type": "code",
   "execution_count": 38,
   "id": "434e7f7a",
   "metadata": {
    "ExecuteTime": {
     "end_time": "2023-05-29T02:53:18.231999Z",
     "start_time": "2023-05-29T02:53:18.223001Z"
    }
   },
   "outputs": [],
   "source": [
    "Q1 = df['VitD_levels'].quantile(0.25)\n",
    "Q3 = df['VitD_levels'].quantile(0.75)\n",
    "IQR = Q3 - Q1\n",
    "\n",
    "lower_bound = Q1 - 1.5 * IQR\n",
    "upper_bound = Q3 + 1.5 * IQR\n",
    "\n",
    "# Capping the outliers\n",
    "df['VitD_levels'] = np.where(df['VitD_levels'] < lower_bound, lower_bound, df['VitD_levels'])\n",
    "df['VitD_levels'] = np.where(df['VitD_levels'] > upper_bound, upper_bound, df['VitD_levels'])"
   ]
  },
  {
   "cell_type": "code",
   "execution_count": 39,
   "id": "85819a47",
   "metadata": {
    "ExecuteTime": {
     "end_time": "2023-05-29T02:53:18.435044Z",
     "start_time": "2023-05-29T02:53:18.236001Z"
    }
   },
   "outputs": [
    {
     "data": {
      "image/png": "[encoded data removed]",
      "text/plain": [
       "<Figure size 640x480 with 1 Axes>"
      ]
     },
     "metadata": {},
     "output_type": "display_data"
    }
   ],
   "source": [
    "ax = sns.boxplot(df['VitD_levels'],color='#F1C453');\n",
    "ax.set_xlabel(xlabel='Vitamin D Levels');"
   ]
  },
  {
   "cell_type": "markdown",
   "id": "09cb6aa6",
   "metadata": {},
   "source": [
    "### TotalCharge"
   ]
  },
  {
   "cell_type": "code",
   "execution_count": 40,
   "id": "98fe6ce8",
   "metadata": {
    "ExecuteTime": {
     "end_time": "2023-05-29T02:53:18.636002Z",
     "start_time": "2023-05-29T02:53:18.440007Z"
    }
   },
   "outputs": [
    {
     "data": {
      "image/png": "[encoded data removed]",
      "text/plain": [
       "<Figure size 640x480 with 1 Axes>"
      ]
     },
     "metadata": {},
     "output_type": "display_data"
    }
   ],
   "source": [
    "ax = sns.boxplot(df['TotalCharge'],color='#F29E4C');\n",
    "ax.set_xlabel(xlabel='Total Charge');"
   ]
  },
  {
   "cell_type": "code",
   "execution_count": 41,
   "id": "df8aaa9c",
   "metadata": {
    "ExecuteTime": {
     "end_time": "2023-05-29T02:53:18.652003Z",
     "start_time": "2023-05-29T02:53:18.639002Z"
    }
   },
   "outputs": [
    {
     "data": {
      "text/plain": [
       "count     8126.000000\n",
       "mean      5884.255004\n",
       "std       3372.649698\n",
       "min       1256.750000\n",
       "25%       3243.185000\n",
       "50%       5851.415000\n",
       "75%       7611.612500\n",
       "max      21524.220000\n",
       "Name: TotalCharge, dtype: float64"
      ]
     },
     "execution_count": 41,
     "metadata": {},
     "output_type": "execute_result"
    }
   ],
   "source": [
    "df['TotalCharge'].describe()"
   ]
  },
  {
   "cell_type": "markdown",
   "id": "3922d23c",
   "metadata": {},
   "source": [
    "This method caps the identified outliers to either the lower bound or upper bound calculated using the IQR method"
   ]
  },
  {
   "cell_type": "code",
   "execution_count": 42,
   "id": "3fe67b7a",
   "metadata": {
    "ExecuteTime": {
     "end_time": "2023-05-29T02:53:18.684004Z",
     "start_time": "2023-05-29T02:53:18.670003Z"
    }
   },
   "outputs": [],
   "source": [
    "# Calculate IQR thresholds\n",
    "Q1 = df['TotalCharge'].quantile(0.25)\n",
    "Q3 = df['TotalCharge'].quantile(0.75)\n",
    "IQR = Q3 - Q1\n",
    "\n",
    "lower_bound = Q1 - 1.5 * IQR\n",
    "upper_bound = Q3 + 1.5 * IQR\n",
    "\n",
    "# Identify outliers using IQR\n",
    "iqr_outliers = (df['TotalCharge'] < lower_bound) | (df['TotalCharge'] > upper_bound)\n",
    "\n",
    "# Identify outliers using Z-scores\n",
    "z_scores = zscore(df['TotalCharge'])\n",
    "z_outliers = (z_scores < -3) | (z_scores > 3)\n",
    "\n",
    "# Consider data points identified as outliers by both methods as true outliers\n",
    "true_outliers = iqr_outliers & z_outliers\n",
    "\n",
    "# Fill in outliers by capping them\n",
    "df.loc[true_outliers & (df['TotalCharge'] < lower_bound), 'TotalCharge'] = lower_bound\n",
    "df.loc[true_outliers & (df['TotalCharge'] > upper_bound), 'TotalCharge'] = upper_bound\n"
   ]
  },
  {
   "cell_type": "code",
   "execution_count": 43,
   "id": "bac1e61f",
   "metadata": {
    "ExecuteTime": {
     "end_time": "2023-05-29T02:53:18.872005Z",
     "start_time": "2023-05-29T02:53:18.688005Z"
    }
   },
   "outputs": [
    {
     "data": {
      "image/png": "[encoded data removed]",
      "text/plain": [
       "<Figure size 640x480 with 1 Axes>"
      ]
     },
     "metadata": {},
     "output_type": "display_data"
    }
   ],
   "source": [
    "ax = sns.boxplot(df['TotalCharge'],color='#F29E4C');\n",
    "ax.set_xlabel(xlabel='Total Charge');"
   ]
  },
  {
   "cell_type": "code",
   "execution_count": 44,
   "id": "4865805d",
   "metadata": {},
   "outputs": [],
   "source": [
    "df.to_csv('cleaned_medical_data.csv',index=False)"
   ]
  },
  {
   "cell_type": "markdown",
   "id": "b35e0045",
   "metadata": {},
   "source": [
    "# Data Analysis: Principal Component Analysis (PCA)\n",
    "Moving on to data analysis, we'll employ Principal Component Analysis (PCA) to gain insights from the cleaned data."
   ]
  },
  {
   "cell_type": "code",
   "execution_count": 45,
   "id": "08d3e79b",
   "metadata": {
    "ExecuteTime": {
     "end_time": "2023-05-29T02:53:19.528246Z",
     "start_time": "2023-05-29T02:53:18.923003Z"
    }
   },
   "outputs": [],
   "source": [
    "from sklearn.decomposition import PCA"
   ]
  },
  {
   "cell_type": "markdown",
   "id": "f1695bca",
   "metadata": {},
   "source": [
    "## Loading Data\n",
    "To begin my analysis, I will import the cleaned data and extract only the numeric data. Additionally, I will exclude the survey response columns since they are categorical features."
   ]
  },
  {
   "cell_type": "code",
   "execution_count": 46,
   "id": "c2812ffc",
   "metadata": {
    "ExecuteTime": {
     "end_time": "2023-05-29T02:53:19.670243Z",
     "start_time": "2023-05-29T02:53:19.532244Z"
    }
   },
   "outputs": [
    {
     "data": {
      "text/plain": [
       "['Initial_days']"
      ]
     },
     "execution_count": 46,
     "metadata": {},
     "output_type": "execute_result"
    }
   ],
   "source": [
    "clean_df = pd.read_csv('cleaned_medical_data.csv')\n",
    "med_data = clean_df.select_dtypes(include=['float'])\n",
    "med_data['Age'] = clean_df['Age']\n",
    "columns_with_missing = clean_df.columns[clean_df.isna().any()].tolist()\n",
    "columns_with_missing"
   ]
  },
  {
   "cell_type": "markdown",
   "id": "b704cb26",
   "metadata": {},
   "source": [
    "## Principal Components\n",
    "I'll use StandardScaler from the sklearn library to standardize the data, and then perform PCA to create principal components. After, I'll make a scree plot to visualize the eigenvalues."
   ]
  },
  {
   "cell_type": "code",
   "execution_count": 47,
   "id": "e515e50c",
   "metadata": {
    "ExecuteTime": {
     "end_time": "2023-05-29T02:53:19.702246Z",
     "start_time": "2023-05-29T02:53:19.674246Z"
    }
   },
   "outputs": [
    {
     "data": {
      "text/html": [
       "<div>\n",
       "<style scoped>\n",
       "    .dataframe tbody tr th:only-of-type {\n",
       "        vertical-align: middle;\n",
       "    }\n",
       "\n",
       "    .dataframe tbody tr th {\n",
       "        vertical-align: top;\n",
       "    }\n",
       "\n",
       "    .dataframe thead th {\n",
       "        text-align: right;\n",
       "    }\n",
       "</style>\n",
       "<table border=\"1\" class=\"dataframe\">\n",
       "  <thead>\n",
       "    <tr style=\"text-align: right;\">\n",
       "      <th></th>\n",
       "      <th>PC1</th>\n",
       "      <th>PC2</th>\n",
       "      <th>PC3</th>\n",
       "      <th>PC4</th>\n",
       "      <th>PC5</th>\n",
       "      <th>PC6</th>\n",
       "      <th>PC7</th>\n",
       "      <th>PC8</th>\n",
       "      <th>PC9</th>\n",
       "    </tr>\n",
       "  </thead>\n",
       "  <tbody>\n",
       "    <tr>\n",
       "      <th>Lat</th>\n",
       "      <td>-0.020369</td>\n",
       "      <td>-0.024570</td>\n",
       "      <td>0.695707</td>\n",
       "      <td>0.133833</td>\n",
       "      <td>-0.063775</td>\n",
       "      <td>-0.022360</td>\n",
       "      <td>-0.701775</td>\n",
       "      <td>-0.001996</td>\n",
       "      <td>0.001695</td>\n",
       "    </tr>\n",
       "    <tr>\n",
       "      <th>Lng</th>\n",
       "      <td>-0.000598</td>\n",
       "      <td>0.014284</td>\n",
       "      <td>-0.694964</td>\n",
       "      <td>-0.078287</td>\n",
       "      <td>-0.141659</td>\n",
       "      <td>0.090330</td>\n",
       "      <td>-0.694429</td>\n",
       "      <td>0.012898</td>\n",
       "      <td>-0.008106</td>\n",
       "    </tr>\n",
       "    <tr>\n",
       "      <th>Children</th>\n",
       "      <td>0.006516</td>\n",
       "      <td>0.006900</td>\n",
       "      <td>0.086117</td>\n",
       "      <td>-0.228863</td>\n",
       "      <td>0.376930</td>\n",
       "      <td>0.892915</td>\n",
       "      <td>-0.021350</td>\n",
       "      <td>-0.016008</td>\n",
       "      <td>0.005513</td>\n",
       "    </tr>\n",
       "    <tr>\n",
       "      <th>Age</th>\n",
       "      <td>0.072276</td>\n",
       "      <td>0.703124</td>\n",
       "      <td>0.011365</td>\n",
       "      <td>0.008066</td>\n",
       "      <td>-0.013706</td>\n",
       "      <td>-0.012309</td>\n",
       "      <td>-0.010186</td>\n",
       "      <td>-0.706179</td>\n",
       "      <td>0.032648</td>\n",
       "    </tr>\n",
       "    <tr>\n",
       "      <th>Income</th>\n",
       "      <td>-0.005435</td>\n",
       "      <td>-0.008547</td>\n",
       "      <td>-0.112843</td>\n",
       "      <td>0.234024</td>\n",
       "      <td>0.902442</td>\n",
       "      <td>-0.313586</td>\n",
       "      <td>-0.138765</td>\n",
       "      <td>-0.018605</td>\n",
       "      <td>-0.007528</td>\n",
       "    </tr>\n",
       "    <tr>\n",
       "      <th>VitD_levels</th>\n",
       "      <td>0.353281</td>\n",
       "      <td>-0.042522</td>\n",
       "      <td>-0.087068</td>\n",
       "      <td>0.798016</td>\n",
       "      <td>-0.118804</td>\n",
       "      <td>0.264220</td>\n",
       "      <td>0.058630</td>\n",
       "      <td>-0.018988</td>\n",
       "      <td>-0.375830</td>\n",
       "    </tr>\n",
       "    <tr>\n",
       "      <th>Initial_days</th>\n",
       "      <td>0.602697</td>\n",
       "      <td>-0.061631</td>\n",
       "      <td>0.067125</td>\n",
       "      <td>-0.481148</td>\n",
       "      <td>0.068227</td>\n",
       "      <td>-0.160359</td>\n",
       "      <td>-0.043012</td>\n",
       "      <td>-0.029890</td>\n",
       "      <td>-0.603188</td>\n",
       "    </tr>\n",
       "    <tr>\n",
       "      <th>TotalCharge</th>\n",
       "      <td>0.707799</td>\n",
       "      <td>-0.070933</td>\n",
       "      <td>0.000302</td>\n",
       "      <td>0.017117</td>\n",
       "      <td>0.001993</td>\n",
       "      <td>-0.005119</td>\n",
       "      <td>-0.012918</td>\n",
       "      <td>0.034691</td>\n",
       "      <td>0.701638</td>\n",
       "    </tr>\n",
       "    <tr>\n",
       "      <th>Additional_charges</th>\n",
       "      <td>0.072517</td>\n",
       "      <td>0.702887</td>\n",
       "      <td>0.025504</td>\n",
       "      <td>0.011110</td>\n",
       "      <td>0.020629</td>\n",
       "      <td>-0.001476</td>\n",
       "      <td>-0.003236</td>\n",
       "      <td>0.705748</td>\n",
       "      <td>-0.037399</td>\n",
       "    </tr>\n",
       "  </tbody>\n",
       "</table>\n",
       "</div>"
      ],
      "text/plain": [
       "                         PC1       PC2       PC3       PC4       PC5  \\\n",
       "Lat                -0.020369 -0.024570  0.695707  0.133833 -0.063775   \n",
       "Lng                -0.000598  0.014284 -0.694964 -0.078287 -0.141659   \n",
       "Children            0.006516  0.006900  0.086117 -0.228863  0.376930   \n",
       "Age                 0.072276  0.703124  0.011365  0.008066 -0.013706   \n",
       "Income             -0.005435 -0.008547 -0.112843  0.234024  0.902442   \n",
       "VitD_levels         0.353281 -0.042522 -0.087068  0.798016 -0.118804   \n",
       "Initial_days        0.602697 -0.061631  0.067125 -0.481148  0.068227   \n",
       "TotalCharge         0.707799 -0.070933  0.000302  0.017117  0.001993   \n",
       "Additional_charges  0.072517  0.702887  0.025504  0.011110  0.020629   \n",
       "\n",
       "                         PC6       PC7       PC8       PC9  \n",
       "Lat                -0.022360 -0.701775 -0.001996  0.001695  \n",
       "Lng                 0.090330 -0.694429  0.012898 -0.008106  \n",
       "Children            0.892915 -0.021350 -0.016008  0.005513  \n",
       "Age                -0.012309 -0.010186 -0.706179  0.032648  \n",
       "Income             -0.313586 -0.138765 -0.018605 -0.007528  \n",
       "VitD_levels         0.264220  0.058630 -0.018988 -0.375830  \n",
       "Initial_days       -0.160359 -0.043012 -0.029890 -0.603188  \n",
       "TotalCharge        -0.005119 -0.012918  0.034691  0.701638  \n",
       "Additional_charges -0.001476 -0.003236  0.705748 -0.037399  "
      ]
     },
     "metadata": {},
     "output_type": "display_data"
    }
   ],
   "source": [
    "# Standardize\n",
    "X = StandardScaler().fit_transform(med_data.dropna())\n",
    "# Create principal components\n",
    "pca = PCA()\n",
    "pca.fit(X)\n",
    "med_pca = pd.DataFrame(pca.transform(X),\n",
    "columns=[f\"PC{i+1}\" for i in range(X.shape[1])])           \n",
    "\n",
    "# Load into dataframe\n",
    "loadings = pd.DataFrame(pca.components_.T,columns=[f\"PC{i+1}\" for i in range(X.shape[1])],\n",
    "index=med_data.columns)\n",
    "display(loadings)              "
   ]
  },
  {
   "cell_type": "code",
   "execution_count": 48,
   "id": "7a641b40",
   "metadata": {
    "ExecuteTime": {
     "end_time": "2023-05-29T02:53:20.002243Z",
     "start_time": "2023-05-29T02:53:19.706246Z"
    }
   },
   "outputs": [
    {
     "data": {
      "image/png": "[encoded data removed]",
      "text/plain": [
       "<Figure size 640x480 with 1 Axes>"
      ]
     },
     "metadata": {},
     "output_type": "display_data"
    }
   ],
   "source": [
    "# Calculating eigenvalues\n",
    "cov_matrix = np.dot(X.T, X) / X.shape[0]\n",
    "eigenvalues = [np.dot(eigenvector.T, np.dot(cov_matrix, eigenvector)) for eigenvector in pca.components_]\n",
    "\n",
    "# Plotting eigenvalues\n",
    "plt.plot(eigenvalues)\n",
    "plt.xlabel('Number of Components')\n",
    "plt.ylabel('Eigenvalue')\n",
    "plt.axhline(y=1,color='black')\n",
    "plt.show()"
   ]
  },
  {
   "cell_type": "code",
   "execution_count": 49,
   "id": "37fbc6ba",
   "metadata": {
    "ExecuteTime": {
     "end_time": "2023-05-29T02:53:20.017248Z",
     "start_time": "2023-05-29T02:53:20.008249Z"
    }
   },
   "outputs": [
    {
     "name": "stdout",
     "output_type": "stream",
     "text": [
      "[(1, 1.795719402370587), (2, 1.627338599508903), (3, 1.110484824714082), (4, 1.0228430683594074), (5, 0.9998721543960869), (6, 0.9977110165193946), (7, 0.8891604524476517), (8, 0.37147641653700403), (9, 0.18539406514688378)]\n"
     ]
    }
   ],
   "source": [
    "sorted_eigenvalues = sorted(eigenvalues, reverse=True)\n",
    "print(list(enumerate(sorted_eigenvalues,1)))"
   ]
  },
  {
   "cell_type": "markdown",
   "id": "7ff74aaa",
   "metadata": {},
   "source": [
    "Based on the eigenvalues there are 4 principal components"
   ]
  }
 ],
 "metadata": {
  "gist": {
   "data": {
    "description": "Documents/D206-Data Cleaning/D206.ipynb",
    "public": false
   },
   "id": ""
  },
  "kernelspec": {
   "display_name": "Python 3 (ipykernel)",
   "language": "python",
   "name": "python3"
  },
  "language_info": {
   "codemirror_mode": {
    "name": "ipython",
    "version": 3
   },
   "file_extension": ".py",
   "mimetype": "text/x-python",
   "name": "python",
   "nbconvert_exporter": "python",
   "pygments_lexer": "ipython3",
   "version": "3.10.11"
  },
  "latex_envs": {
   "LaTeX_envs_menu_present": true,
   "autoclose": false,
   "autocomplete": true,
   "bibliofile": "biblio.bib",
   "cite_by": "apalike",
   "current_citInitial": 1,
   "eqLabelWithNumbers": true,
   "eqNumInitial": 1,
   "hotkeys": {
    "equation": "Ctrl-E",
    "itemize": "Ctrl-I"
   },
   "labels_anchors": false,
   "latex_user_defs": false,
   "report_style_numbering": false,
   "user_envs_cfg": false
  },
  "nbTranslate": {
   "displayLangs": [
    "*"
   ],
   "hotkey": "alt-t",
   "langInMainMenu": true,
   "sourceLang": "en",
   "targetLang": "fr",
   "useGoogleTranslate": true
  },
  "toc": {
   "base_numbering": 1,
   "nav_menu": {},
   "number_sections": true,
   "sideBar": true,
   "skip_h1_title": false,
   "title_cell": "Table of Contents",
   "title_sidebar": "Contents",
   "toc_cell": true,
   "toc_position": {},
   "toc_section_display": true,
   "toc_window_display": false
  },
  "toc-autonumbering": true,
  "toc-showcode": false,
  "toc-showmarkdowntxt": true,
  "toc-showtags": false,
  "varInspector": {
   "cols": {
    "lenName": 16,
    "lenType": 16,
    "lenVar": 40
   },
   "kernels_config": {
    "python": {
     "delete_cmd_postfix": "",
     "delete_cmd_prefix": "del ",
     "library": "var_list.py",
     "varRefreshCmd": "print(var_dic_list())"
    },
    "r": {
     "delete_cmd_postfix": ") ",
     "delete_cmd_prefix": "rm(",
     "library": "var_list.r",
     "varRefreshCmd": "cat(var_dic_list()) "
    }
   },
   "types_to_exclude": [
    "module",
    "function",
    "builtin_function_or_method",
    "instance",
    "_Feature"
   ],
   "window_display": false
  },
  "widgets": {
   "application/vnd.jupyter.widget-state+json": {
    "state": {},
    "version_major": 2,
    "version_minor": 0
   }
  }
 },
 "nbformat": 4,
 "nbformat_minor": 5
}
